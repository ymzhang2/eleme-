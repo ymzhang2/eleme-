{
 "cells": [
  {
   "cell_type": "code",
   "execution_count": 2,
   "metadata": {
    "collapsed": true
   },
   "outputs": [],
   "source": [
    "import pandas as pd\n",
    "import numpy as np\n",
    "import matplotlib.pyplot as plt \n",
    "from sklearn.ensemble import IsolationForest\n",
    "from sklearn.cluster import KMeans\n",
    "from sklearn.preprocessing import StandardScaler\n",
    "%matplotlib inline\n",
    "import seaborn as sns \n",
    "df = pd.read_excel(open('/Users/ymzhang/Desktop/data.xlsx','rb'), sheetname='Sheet0')"
   ]
  },
  {
   "cell_type": "markdown",
   "metadata": {},
   "source": [
    "#### 检察NULL值\n",
    "\n",
    "发现没有任何空值"
   ]
  },
  {
   "cell_type": "code",
   "execution_count": 3,
   "metadata": {
    "collapsed": false,
    "scrolled": true
   },
   "outputs": [
    {
     "data": {
      "text/html": [
       "<div>\n",
       "<table border=\"1\" class=\"dataframe\">\n",
       "  <thead>\n",
       "    <tr style=\"text-align: right;\">\n",
       "      <th></th>\n",
       "      <th>order_date</th>\n",
       "      <th>restaurant_id</th>\n",
       "      <th>retailer_id</th>\n",
       "      <th>push</th>\n",
       "      <th>yichang</th>\n",
       "      <th>min60</th>\n",
       "      <th>judan</th>\n",
       "      <th>chaping</th>\n",
       "      <th>customer_tousu</th>\n",
       "      <th>shoppers_tousu</th>\n",
       "      <th>...</th>\n",
       "      <th>liezhi</th>\n",
       "      <th>deliver_time</th>\n",
       "      <th>yichang_rate</th>\n",
       "      <th>min60_rate</th>\n",
       "      <th>judan_rate</th>\n",
       "      <th>chaping_rate</th>\n",
       "      <th>tousu_rate</th>\n",
       "      <th>liezhi_rate</th>\n",
       "      <th>youzhi_rate</th>\n",
       "      <th>push_num_bad_rate</th>\n",
       "    </tr>\n",
       "  </thead>\n",
       "  <tbody>\n",
       "    <tr>\n",
       "      <th>count</th>\n",
       "      <td>24712</td>\n",
       "      <td>24712</td>\n",
       "      <td>24712</td>\n",
       "      <td>24712</td>\n",
       "      <td>24712</td>\n",
       "      <td>24712</td>\n",
       "      <td>24712</td>\n",
       "      <td>24712</td>\n",
       "      <td>24712</td>\n",
       "      <td>24712</td>\n",
       "      <td>...</td>\n",
       "      <td>24712</td>\n",
       "      <td>24712</td>\n",
       "      <td>24712</td>\n",
       "      <td>24712</td>\n",
       "      <td>24712</td>\n",
       "      <td>24712</td>\n",
       "      <td>24712</td>\n",
       "      <td>24712</td>\n",
       "      <td>24712</td>\n",
       "      <td>24712</td>\n",
       "    </tr>\n",
       "    <tr>\n",
       "      <th>unique</th>\n",
       "      <td>1</td>\n",
       "      <td>1</td>\n",
       "      <td>1</td>\n",
       "      <td>1</td>\n",
       "      <td>1</td>\n",
       "      <td>1</td>\n",
       "      <td>1</td>\n",
       "      <td>1</td>\n",
       "      <td>1</td>\n",
       "      <td>1</td>\n",
       "      <td>...</td>\n",
       "      <td>1</td>\n",
       "      <td>1</td>\n",
       "      <td>1</td>\n",
       "      <td>1</td>\n",
       "      <td>1</td>\n",
       "      <td>1</td>\n",
       "      <td>1</td>\n",
       "      <td>1</td>\n",
       "      <td>1</td>\n",
       "      <td>1</td>\n",
       "    </tr>\n",
       "    <tr>\n",
       "      <th>top</th>\n",
       "      <td>False</td>\n",
       "      <td>False</td>\n",
       "      <td>False</td>\n",
       "      <td>False</td>\n",
       "      <td>False</td>\n",
       "      <td>False</td>\n",
       "      <td>False</td>\n",
       "      <td>False</td>\n",
       "      <td>False</td>\n",
       "      <td>False</td>\n",
       "      <td>...</td>\n",
       "      <td>False</td>\n",
       "      <td>False</td>\n",
       "      <td>False</td>\n",
       "      <td>False</td>\n",
       "      <td>False</td>\n",
       "      <td>False</td>\n",
       "      <td>False</td>\n",
       "      <td>False</td>\n",
       "      <td>False</td>\n",
       "      <td>False</td>\n",
       "    </tr>\n",
       "    <tr>\n",
       "      <th>freq</th>\n",
       "      <td>24712</td>\n",
       "      <td>24712</td>\n",
       "      <td>24712</td>\n",
       "      <td>24712</td>\n",
       "      <td>24712</td>\n",
       "      <td>24712</td>\n",
       "      <td>24712</td>\n",
       "      <td>24712</td>\n",
       "      <td>24712</td>\n",
       "      <td>24712</td>\n",
       "      <td>...</td>\n",
       "      <td>24712</td>\n",
       "      <td>24712</td>\n",
       "      <td>24712</td>\n",
       "      <td>24712</td>\n",
       "      <td>24712</td>\n",
       "      <td>24712</td>\n",
       "      <td>24712</td>\n",
       "      <td>24712</td>\n",
       "      <td>24712</td>\n",
       "      <td>24712</td>\n",
       "    </tr>\n",
       "  </tbody>\n",
       "</table>\n",
       "<p>4 rows × 21 columns</p>\n",
       "</div>"
      ],
      "text/plain": [
       "       order_date restaurant_id retailer_id   push yichang  min60  judan  \\\n",
       "count       24712         24712       24712  24712   24712  24712  24712   \n",
       "unique          1             1           1      1       1      1      1   \n",
       "top         False         False       False  False   False  False  False   \n",
       "freq        24712         24712       24712  24712   24712  24712  24712   \n",
       "\n",
       "       chaping customer_tousu shoppers_tousu        ...        liezhi  \\\n",
       "count    24712          24712          24712        ...         24712   \n",
       "unique       1              1              1        ...             1   \n",
       "top      False          False          False        ...         False   \n",
       "freq     24712          24712          24712        ...         24712   \n",
       "\n",
       "       deliver_time yichang_rate min60_rate judan_rate chaping_rate  \\\n",
       "count         24712        24712      24712      24712        24712   \n",
       "unique            1            1          1          1            1   \n",
       "top           False        False      False      False        False   \n",
       "freq          24712        24712      24712      24712        24712   \n",
       "\n",
       "       tousu_rate liezhi_rate youzhi_rate push_num_bad_rate  \n",
       "count       24712       24712       24712             24712  \n",
       "unique          1           1           1                 1  \n",
       "top         False       False       False             False  \n",
       "freq        24712       24712       24712             24712  \n",
       "\n",
       "[4 rows x 21 columns]"
      ]
     },
     "execution_count": 3,
     "metadata": {},
     "output_type": "execute_result"
    }
   ],
   "source": [
    "df.isnull().describe()"
   ]
  },
  {
   "cell_type": "markdown",
   "metadata": {},
   "source": [
    "#### 运单量的分布图"
   ]
  },
  {
   "cell_type": "code",
   "execution_count": 4,
   "metadata": {
    "collapsed": false,
    "scrolled": false
   },
   "outputs": [
    {
     "name": "stderr",
     "output_type": "stream",
     "text": [
      "/Users/ymzhang/anaconda/lib/python3.6/site-packages/statsmodels/nonparametric/kdetools.py:20: VisibleDeprecationWarning: using a non-integer number instead of an integer will result in an error in the future\n",
      "  y = X[:m/2+1] + np.r_[0,X[m/2+1:],0]*1j\n"
     ]
    },
    {
     "data": {
      "text/plain": [
       "<matplotlib.axes._subplots.AxesSubplot at 0x10e2e2c88>"
      ]
     },
     "execution_count": 4,
     "metadata": {},
     "output_type": "execute_result"
    },
    {
     "data": {
      "image/png": "[encoded data removed]",
      "text/plain": [
       "<matplotlib.figure.Figure at 0x11a4dee10>"
      ]
     },
     "metadata": {},
     "output_type": "display_data"
    }
   ],
   "source": [
    "sns.set_style(\"ticks\")\n",
    "sns.distplot(df[\"push\"]) "
   ]
  },
  {
   "cell_type": "markdown",
   "metadata": {},
   "source": [
    "#### 优质单率的分布\n"
   ]
  },
  {
   "cell_type": "code",
   "execution_count": 5,
   "metadata": {
    "collapsed": false
   },
   "outputs": [
    {
     "name": "stderr",
     "output_type": "stream",
     "text": [
      "/Users/ymzhang/anaconda/lib/python3.6/site-packages/statsmodels/nonparametric/kdetools.py:20: VisibleDeprecationWarning: using a non-integer number instead of an integer will result in an error in the future\n",
      "  y = X[:m/2+1] + np.r_[0,X[m/2+1:],0]*1j\n"
     ]
    },
    {
     "data": {
      "text/plain": [
       "<matplotlib.axes._subplots.AxesSubplot at 0x11a02f5f8>"
      ]
     },
     "execution_count": 5,
     "metadata": {},
     "output_type": "execute_result"
    },
    {
     "data": {
      "image/png": "[encoded data removed]",
      "text/plain": [
       "<matplotlib.figure.Figure at 0x10e2e26a0>"
      ]
     },
     "metadata": {},
     "output_type": "display_data"
    }
   ],
   "source": [
    "sns.set_style(\"ticks\")\n",
    "sns.distplot(df[\"youzhi_rate\"]) "
   ]
  },
  {
   "cell_type": "markdown",
   "metadata": {},
   "source": [
    "#### 优质单率的直方图"
   ]
  },
  {
   "cell_type": "code",
   "execution_count": 6,
   "metadata": {
    "collapsed": false
   },
   "outputs": [
    {
     "data": {
      "text/plain": [
       "(array([  3.15000000e+02,   1.20000000e+01,   1.10000000e+01,\n",
       "          4.40000000e+01,   1.60000000e+01,   2.55000000e+02,\n",
       "          2.45000000e+02,   2.88000000e+02,   9.48000000e+02,\n",
       "          2.25780000e+04]),\n",
       " array([ 0. ,  0.1,  0.2,  0.3,  0.4,  0.5,  0.6,  0.7,  0.8,  0.9,  1. ]),\n",
       " <a list of 10 Patch objects>)"
      ]
     },
     "execution_count": 6,
     "metadata": {},
     "output_type": "execute_result"
    },
    {
     "data": {
      "image/png": "[encoded data removed]",
      "text/plain": [
       "<matplotlib.figure.Figure at 0x11aa6d710>"
      ]
     },
     "metadata": {},
     "output_type": "display_data"
    }
   ],
   "source": [
    "plt.hist(df[\"youzhi_rate\"])"
   ]
  },
  {
   "cell_type": "markdown",
   "metadata": {},
   "source": [
    "#### 推单数的直方图"
   ]
  },
  {
   "cell_type": "code",
   "execution_count": 7,
   "metadata": {
    "collapsed": false
   },
   "outputs": [
    {
     "data": {
      "text/plain": [
       "(array([    0.,  3763.,  2625.,  1970.,  1444.,  1241.,  1020.,   844.,\n",
       "          713.,   654.,   577.,   507.,   480.,   464.,   390.,   337.,\n",
       "          344.,   294.,   271.,   283.,   256.,   230.,   228.,   180.,\n",
       "          208.,   196.,   189.,   178.,   159.,   167.,   168.,   163.,\n",
       "          134.,   147.,   127.,   124.,   125.,   108.,    85.,    97.,\n",
       "           95.,    88.,    82.,    99.,    93.,    75.,    87.,    75.,\n",
       "           65.,    58.,    77.,    68.,    47.,    73.,    59.,    59.,\n",
       "           52.,    56.,    49.,    44.,    52.,    41.,    38.,    44.,\n",
       "           40.,    38.,    41.,    51.,    43.,    43.,    32.,    38.,\n",
       "           38.,    21.,    30.,    16.,    26.,    23.,    22.,    35.,\n",
       "           28.,    26.,    15.,    20.,    25.,    22.,    19.,    14.,\n",
       "           20.,    20.,    19.,    17.,    19.,    19.,    21.,    15.,\n",
       "            9.,    15.,    28.]),\n",
       " array([ 0,  1,  2,  3,  4,  5,  6,  7,  8,  9, 10, 11, 12, 13, 14, 15, 16,\n",
       "        17, 18, 19, 20, 21, 22, 23, 24, 25, 26, 27, 28, 29, 30, 31, 32, 33,\n",
       "        34, 35, 36, 37, 38, 39, 40, 41, 42, 43, 44, 45, 46, 47, 48, 49, 50,\n",
       "        51, 52, 53, 54, 55, 56, 57, 58, 59, 60, 61, 62, 63, 64, 65, 66, 67,\n",
       "        68, 69, 70, 71, 72, 73, 74, 75, 76, 77, 78, 79, 80, 81, 82, 83, 84,\n",
       "        85, 86, 87, 88, 89, 90, 91, 92, 93, 94, 95, 96, 97, 98, 99]),\n",
       " <a list of 99 Patch objects>)"
      ]
     },
     "execution_count": 7,
     "metadata": {},
     "output_type": "execute_result"
    },
    {
     "data": {
      "image/png": "[encoded data removed]",
      "text/plain": [
       "<matplotlib.figure.Figure at 0x11aaf4390>"
      ]
     },
     "metadata": {},
     "output_type": "display_data"
    }
   ],
   "source": [
    "plt.hist(df[\"push\"],bins=np.arange(100))"
   ]
  },
  {
   "cell_type": "markdown",
   "metadata": {},
   "source": [
    "#### 配送时长的直方图"
   ]
  },
  {
   "cell_type": "code",
   "execution_count": 8,
   "metadata": {
    "collapsed": false
   },
   "outputs": [
    {
     "data": {
      "text/plain": [
       "(array([  6.43000000e+02,   1.02560000e+04,   1.26130000e+04,\n",
       "          1.08400000e+03,   1.02000000e+02,   9.00000000e+00,\n",
       "          2.00000000e+00,   2.00000000e+00,   0.00000000e+00,\n",
       "          1.00000000e+00]),\n",
       " array([   0.        ,   13.43166667,   26.86333333,   40.295     ,\n",
       "          53.72666667,   67.15833333,   80.59      ,   94.02166667,\n",
       "         107.45333333,  120.885     ,  134.31666667]),\n",
       " <a list of 10 Patch objects>)"
      ]
     },
     "execution_count": 8,
     "metadata": {},
     "output_type": "execute_result"
    },
    {
     "data": {
      "image/png": "[encoded data removed]",
      "text/plain": [
       "<matplotlib.figure.Figure at 0x11ac73978>"
      ]
     },
     "metadata": {},
     "output_type": "display_data"
    }
   ],
   "source": [
    "plt.hist(df[\"deliver_time\"])"
   ]
  },
  {
   "cell_type": "code",
   "execution_count": 9,
   "metadata": {
    "collapsed": false
   },
   "outputs": [
    {
     "data": {
      "text/plain": [
       "Index(['order_date', 'restaurant_id', 'retailer_id', 'push', 'yichang',\n",
       "       'min60', 'judan', 'chaping', 'customer_tousu', 'shoppers_tousu',\n",
       "       'tousu', 'liezhi', 'deliver_time', 'yichang_rate', 'min60_rate',\n",
       "       'judan_rate', 'chaping_rate', 'tousu_rate', 'liezhi_rate',\n",
       "       'youzhi_rate', 'push_num_bad_rate'],\n",
       "      dtype='object')"
      ]
     },
     "execution_count": 9,
     "metadata": {},
     "output_type": "execute_result"
    }
   ],
   "source": [
    "df.columns"
   ]
  },
  {
   "cell_type": "code",
   "execution_count": 10,
   "metadata": {
    "collapsed": false
   },
   "outputs": [],
   "source": [
    "name=['restaurant_id','retailer_id','push','youzhi_rate','deliver_time']\n",
    "names=(['push','youzhi_rate','deliver_time'])"
   ]
  },
  {
   "cell_type": "markdown",
   "metadata": {},
   "source": [
    "#### 对数据做标准化变换"
   ]
  },
  {
   "cell_type": "code",
   "execution_count": 11,
   "metadata": {
    "collapsed": false
   },
   "outputs": [],
   "source": [
    "df1=df[names]\n",
    "scaler=StandardScaler()\n",
    "df1_scaled=scaler.fit_transform(df1)"
   ]
  },
  {
   "cell_type": "markdown",
   "metadata": {},
   "source": [
    "#### 用Isolation Forest 来检测异常值"
   ]
  },
  {
   "cell_type": "code",
   "execution_count": 12,
   "metadata": {
    "collapsed": false
   },
   "outputs": [],
   "source": [
    "rng = np.random.RandomState(42)\n",
    "clf=IsolationForest(max_samples=500,random_state=rng)"
   ]
  },
  {
   "cell_type": "code",
   "execution_count": 13,
   "metadata": {
    "collapsed": true
   },
   "outputs": [],
   "source": [
    "clf.fit(df1_scaled)\n",
    "df1_pred=clf.predict(df1_scaled)"
   ]
  },
  {
   "cell_type": "code",
   "execution_count": 14,
   "metadata": {
    "collapsed": false
   },
   "outputs": [
    {
     "data": {
      "text/plain": [
       "array([-1, -1,  1, ...,  1,  1,  1])"
      ]
     },
     "execution_count": 14,
     "metadata": {},
     "output_type": "execute_result"
    }
   ],
   "source": [
    "df1_pred"
   ]
  },
  {
   "cell_type": "code",
   "execution_count": 15,
   "metadata": {
    "collapsed": false
   },
   "outputs": [],
   "source": [
    "df['cluster']=df1_pred"
   ]
  },
  {
   "cell_type": "code",
   "execution_count": 16,
   "metadata": {
    "collapsed": false
   },
   "outputs": [],
   "source": [
    "import pandas as pd\n",
    "pred=pd.Series(df1_pred)"
   ]
  },
  {
   "cell_type": "markdown",
   "metadata": {},
   "source": [
    "#### 异常组和正常组统计描述对比\n",
    "* -1:异常组 \n",
    "\n",
    "* 1:正常组 "
   ]
  },
  {
   "cell_type": "code",
   "execution_count": 17,
   "metadata": {
    "collapsed": false
   },
   "outputs": [
    {
     "data": {
      "text/html": [
       "<div>\n",
       "<table border=\"1\" class=\"dataframe\">\n",
       "  <thead>\n",
       "    <tr style=\"text-align: right;\">\n",
       "      <th></th>\n",
       "      <th></th>\n",
       "      <th>chaping_rate</th>\n",
       "      <th>deliver_time</th>\n",
       "      <th>judan_rate</th>\n",
       "      <th>min60_rate</th>\n",
       "      <th>push</th>\n",
       "      <th>tousu_rate</th>\n",
       "      <th>yichang_rate</th>\n",
       "      <th>youzhi_rate</th>\n",
       "    </tr>\n",
       "    <tr>\n",
       "      <th>cluster</th>\n",
       "      <th></th>\n",
       "      <th></th>\n",
       "      <th></th>\n",
       "      <th></th>\n",
       "      <th></th>\n",
       "      <th></th>\n",
       "      <th></th>\n",
       "      <th></th>\n",
       "      <th></th>\n",
       "    </tr>\n",
       "  </thead>\n",
       "  <tbody>\n",
       "    <tr>\n",
       "      <th rowspan=\"8\" valign=\"top\">-1</th>\n",
       "      <th>count</th>\n",
       "      <td>2472.000000</td>\n",
       "      <td>2472.000000</td>\n",
       "      <td>2472.000000</td>\n",
       "      <td>2472.000000</td>\n",
       "      <td>2472.000000</td>\n",
       "      <td>2472.000000</td>\n",
       "      <td>2472.000000</td>\n",
       "      <td>2472.000000</td>\n",
       "    </tr>\n",
       "    <tr>\n",
       "      <th>mean</th>\n",
       "      <td>0.008555</td>\n",
       "      <td>29.320380</td>\n",
       "      <td>0.082686</td>\n",
       "      <td>0.057923</td>\n",
       "      <td>54.408981</td>\n",
       "      <td>0.001516</td>\n",
       "      <td>0.135027</td>\n",
       "      <td>0.717955</td>\n",
       "    </tr>\n",
       "    <tr>\n",
       "      <th>std</th>\n",
       "      <td>0.070976</td>\n",
       "      <td>16.911884</td>\n",
       "      <td>0.208933</td>\n",
       "      <td>0.145500</td>\n",
       "      <td>72.523200</td>\n",
       "      <td>0.019496</td>\n",
       "      <td>0.285577</td>\n",
       "      <td>0.328431</td>\n",
       "    </tr>\n",
       "    <tr>\n",
       "      <th>min</th>\n",
       "      <td>0.000000</td>\n",
       "      <td>0.000000</td>\n",
       "      <td>0.000000</td>\n",
       "      <td>0.000000</td>\n",
       "      <td>1.000000</td>\n",
       "      <td>0.000000</td>\n",
       "      <td>0.000000</td>\n",
       "      <td>0.000000</td>\n",
       "    </tr>\n",
       "    <tr>\n",
       "      <th>25%</th>\n",
       "      <td>0.000000</td>\n",
       "      <td>22.255473</td>\n",
       "      <td>0.000000</td>\n",
       "      <td>0.000000</td>\n",
       "      <td>2.000000</td>\n",
       "      <td>0.000000</td>\n",
       "      <td>0.000000</td>\n",
       "      <td>0.571429</td>\n",
       "    </tr>\n",
       "    <tr>\n",
       "      <th>50%</th>\n",
       "      <td>0.000000</td>\n",
       "      <td>31.512913</td>\n",
       "      <td>0.000000</td>\n",
       "      <td>0.000000</td>\n",
       "      <td>8.000000</td>\n",
       "      <td>0.000000</td>\n",
       "      <td>0.000000</td>\n",
       "      <td>0.846688</td>\n",
       "    </tr>\n",
       "    <tr>\n",
       "      <th>75%</th>\n",
       "      <td>0.000000</td>\n",
       "      <td>39.964596</td>\n",
       "      <td>0.000000</td>\n",
       "      <td>0.043478</td>\n",
       "      <td>105.000000</td>\n",
       "      <td>0.000000</td>\n",
       "      <td>0.052632</td>\n",
       "      <td>0.984283</td>\n",
       "    </tr>\n",
       "    <tr>\n",
       "      <th>max</th>\n",
       "      <td>1.000000</td>\n",
       "      <td>134.316667</td>\n",
       "      <td>1.000000</td>\n",
       "      <td>1.000000</td>\n",
       "      <td>552.000000</td>\n",
       "      <td>0.500000</td>\n",
       "      <td>1.000000</td>\n",
       "      <td>1.000000</td>\n",
       "    </tr>\n",
       "    <tr>\n",
       "      <th rowspan=\"8\" valign=\"top\">1</th>\n",
       "      <th>count</th>\n",
       "      <td>22240.000000</td>\n",
       "      <td>22240.000000</td>\n",
       "      <td>22240.000000</td>\n",
       "      <td>22240.000000</td>\n",
       "      <td>22240.000000</td>\n",
       "      <td>22240.000000</td>\n",
       "      <td>22240.000000</td>\n",
       "      <td>22240.000000</td>\n",
       "    </tr>\n",
       "    <tr>\n",
       "      <th>mean</th>\n",
       "      <td>0.000807</td>\n",
       "      <td>27.746394</td>\n",
       "      <td>0.002627</td>\n",
       "      <td>0.002841</td>\n",
       "      <td>14.529631</td>\n",
       "      <td>0.000132</td>\n",
       "      <td>0.004193</td>\n",
       "      <td>0.989509</td>\n",
       "    </tr>\n",
       "    <tr>\n",
       "      <th>std</th>\n",
       "      <td>0.008278</td>\n",
       "      <td>6.087109</td>\n",
       "      <td>0.018222</td>\n",
       "      <td>0.015303</td>\n",
       "      <td>18.446540</td>\n",
       "      <td>0.003214</td>\n",
       "      <td>0.021133</td>\n",
       "      <td>0.032976</td>\n",
       "    </tr>\n",
       "    <tr>\n",
       "      <th>min</th>\n",
       "      <td>0.000000</td>\n",
       "      <td>9.333333</td>\n",
       "      <td>0.000000</td>\n",
       "      <td>0.000000</td>\n",
       "      <td>1.000000</td>\n",
       "      <td>0.000000</td>\n",
       "      <td>0.000000</td>\n",
       "      <td>0.750000</td>\n",
       "    </tr>\n",
       "    <tr>\n",
       "      <th>25%</th>\n",
       "      <td>0.000000</td>\n",
       "      <td>23.683831</td>\n",
       "      <td>0.000000</td>\n",
       "      <td>0.000000</td>\n",
       "      <td>2.000000</td>\n",
       "      <td>0.000000</td>\n",
       "      <td>0.000000</td>\n",
       "      <td>1.000000</td>\n",
       "    </tr>\n",
       "    <tr>\n",
       "      <th>50%</th>\n",
       "      <td>0.000000</td>\n",
       "      <td>27.589444</td>\n",
       "      <td>0.000000</td>\n",
       "      <td>0.000000</td>\n",
       "      <td>7.000000</td>\n",
       "      <td>0.000000</td>\n",
       "      <td>0.000000</td>\n",
       "      <td>1.000000</td>\n",
       "    </tr>\n",
       "    <tr>\n",
       "      <th>75%</th>\n",
       "      <td>0.000000</td>\n",
       "      <td>31.566667</td>\n",
       "      <td>0.000000</td>\n",
       "      <td>0.000000</td>\n",
       "      <td>19.000000</td>\n",
       "      <td>0.000000</td>\n",
       "      <td>0.000000</td>\n",
       "      <td>1.000000</td>\n",
       "    </tr>\n",
       "    <tr>\n",
       "      <th>max</th>\n",
       "      <td>0.250000</td>\n",
       "      <td>48.416667</td>\n",
       "      <td>0.250000</td>\n",
       "      <td>0.250000</td>\n",
       "      <td>117.000000</td>\n",
       "      <td>0.166667</td>\n",
       "      <td>0.250000</td>\n",
       "      <td>1.000000</td>\n",
       "    </tr>\n",
       "  </tbody>\n",
       "</table>\n",
       "</div>"
      ],
      "text/plain": [
       "               chaping_rate  deliver_time    judan_rate    min60_rate  \\\n",
       "cluster                                                                 \n",
       "-1      count   2472.000000   2472.000000   2472.000000   2472.000000   \n",
       "        mean       0.008555     29.320380      0.082686      0.057923   \n",
       "        std        0.070976     16.911884      0.208933      0.145500   \n",
       "        min        0.000000      0.000000      0.000000      0.000000   \n",
       "        25%        0.000000     22.255473      0.000000      0.000000   \n",
       "        50%        0.000000     31.512913      0.000000      0.000000   \n",
       "        75%        0.000000     39.964596      0.000000      0.043478   \n",
       "        max        1.000000    134.316667      1.000000      1.000000   \n",
       " 1      count  22240.000000  22240.000000  22240.000000  22240.000000   \n",
       "        mean       0.000807     27.746394      0.002627      0.002841   \n",
       "        std        0.008278      6.087109      0.018222      0.015303   \n",
       "        min        0.000000      9.333333      0.000000      0.000000   \n",
       "        25%        0.000000     23.683831      0.000000      0.000000   \n",
       "        50%        0.000000     27.589444      0.000000      0.000000   \n",
       "        75%        0.000000     31.566667      0.000000      0.000000   \n",
       "        max        0.250000     48.416667      0.250000      0.250000   \n",
       "\n",
       "                       push    tousu_rate  yichang_rate   youzhi_rate  \n",
       "cluster                                                                \n",
       "-1      count   2472.000000   2472.000000   2472.000000   2472.000000  \n",
       "        mean      54.408981      0.001516      0.135027      0.717955  \n",
       "        std       72.523200      0.019496      0.285577      0.328431  \n",
       "        min        1.000000      0.000000      0.000000      0.000000  \n",
       "        25%        2.000000      0.000000      0.000000      0.571429  \n",
       "        50%        8.000000      0.000000      0.000000      0.846688  \n",
       "        75%      105.000000      0.000000      0.052632      0.984283  \n",
       "        max      552.000000      0.500000      1.000000      1.000000  \n",
       " 1      count  22240.000000  22240.000000  22240.000000  22240.000000  \n",
       "        mean      14.529631      0.000132      0.004193      0.989509  \n",
       "        std       18.446540      0.003214      0.021133      0.032976  \n",
       "        min        1.000000      0.000000      0.000000      0.750000  \n",
       "        25%        2.000000      0.000000      0.000000      1.000000  \n",
       "        50%        7.000000      0.000000      0.000000      1.000000  \n",
       "        75%       19.000000      0.000000      0.000000      1.000000  \n",
       "        max      117.000000      0.166667      0.250000      1.000000  "
      ]
     },
     "execution_count": 17,
     "metadata": {},
     "output_type": "execute_result"
    }
   ],
   "source": [
    "df[['push','yichang_rate','min60_rate','judan_rate','chaping_rate','tousu_rate','deliver_time','youzhi_rate','cluster']].groupby('cluster').describe()\n"
   ]
  },
  {
   "cell_type": "code",
   "execution_count": 18,
   "metadata": {
    "collapsed": false
   },
   "outputs": [],
   "source": [
    "center=df[['push','yichang_rate','min60_rate','judan_rate','chaping_rate','tousu_rate','deliver_time','youzhi_rate','cluster']].groupby('cluster').mean()\n"
   ]
  },
  {
   "cell_type": "markdown",
   "metadata": {},
   "source": [
    "#### 展示异常组和正常组的差别\n",
    "* X轴：推单量 \n",
    "* Y轴：优质完成率 \n",
    "* '+' 号标记这组均质\n",
    "\n",
    "* 紫色：异常值\n",
    "* 绿色：正常值"
   ]
  },
  {
   "cell_type": "code",
   "execution_count": 19,
   "metadata": {
    "collapsed": false
   },
   "outputs": [
    {
     "data": {
      "text/plain": [
       "<matplotlib.text.Text at 0x11b459358>"
      ]
     },
     "execution_count": 19,
     "metadata": {},
     "output_type": "execute_result"
    },
    {
     "data": {
      "image/png": "[encoded data removed]",
      "text/plain": [
       "<matplotlib.figure.Figure at 0x11942a3c8>"
      ]
     },
     "metadata": {},
     "output_type": "display_data"
    }
   ],
   "source": [
    "# allow plots to appear in the notebook\n",
    "%matplotlib inline\n",
    "import matplotlib.pyplot as plt\n",
    "plt.rcParams['font.size'] = 14\n",
    "# create a \"colors\" array for plotting\n",
    "import numpy as np\n",
    "colors = np.array(['red', 'green', 'blue', 'yellow','purple'])\n",
    "# scatter plot of calories versus alcohol, colored by cluster (0=red, 1=green, 2=blue)\n",
    "plt.scatter(df.push, df.youzhi_rate, c=colors[df.cluster])\n",
    "\n",
    "# cluster centers, marked by \"+\"\n",
    "plt.scatter(center.push, center.youzhi_rate, linewidths=3, marker='+', s=300, c='black')\n",
    "\n",
    "# add labels\n",
    "plt.xlabel('push')\n",
    "plt.ylabel('youzhi_rate')"
   ]
  },
  {
   "cell_type": "code",
   "execution_count": 20,
   "metadata": {
    "collapsed": false
   },
   "outputs": [
    {
     "data": {
      "text/plain": [
       " 1    22240\n",
       "-1     2472\n",
       "dtype: int64"
      ]
     },
     "execution_count": 20,
     "metadata": {},
     "output_type": "execute_result"
    }
   ],
   "source": [
    "pred.value_counts()"
   ]
  },
  {
   "cell_type": "code",
   "execution_count": 21,
   "metadata": {
    "collapsed": true
   },
   "outputs": [],
   "source": [
    "indexes = [i for i,x in enumerate(df1_pred) if x == -1]"
   ]
  },
  {
   "cell_type": "code",
   "execution_count": 22,
   "metadata": {
    "collapsed": false
   },
   "outputs": [],
   "source": [
    "iforest=df.ix[indexes]"
   ]
  },
  {
   "cell_type": "markdown",
   "metadata": {},
   "source": [
    "#### Iforest tree 去除异常值后数据统计描述"
   ]
  },
  {
   "cell_type": "code",
   "execution_count": 23,
   "metadata": {
    "collapsed": false
   },
   "outputs": [
    {
     "data": {
      "text/html": [
       "<div>\n",
       "<table border=\"1\" class=\"dataframe\">\n",
       "  <thead>\n",
       "    <tr style=\"text-align: right;\">\n",
       "      <th></th>\n",
       "      <th>push</th>\n",
       "      <th>youzhi_rate</th>\n",
       "      <th>deliver_time</th>\n",
       "    </tr>\n",
       "  </thead>\n",
       "  <tbody>\n",
       "    <tr>\n",
       "      <th>count</th>\n",
       "      <td>2472.000000</td>\n",
       "      <td>2472.000000</td>\n",
       "      <td>2472.000000</td>\n",
       "    </tr>\n",
       "    <tr>\n",
       "      <th>mean</th>\n",
       "      <td>54.408981</td>\n",
       "      <td>0.717955</td>\n",
       "      <td>29.320380</td>\n",
       "    </tr>\n",
       "    <tr>\n",
       "      <th>std</th>\n",
       "      <td>72.523200</td>\n",
       "      <td>0.328431</td>\n",
       "      <td>16.911884</td>\n",
       "    </tr>\n",
       "    <tr>\n",
       "      <th>min</th>\n",
       "      <td>1.000000</td>\n",
       "      <td>0.000000</td>\n",
       "      <td>0.000000</td>\n",
       "    </tr>\n",
       "    <tr>\n",
       "      <th>25%</th>\n",
       "      <td>2.000000</td>\n",
       "      <td>0.571429</td>\n",
       "      <td>22.255473</td>\n",
       "    </tr>\n",
       "    <tr>\n",
       "      <th>50%</th>\n",
       "      <td>8.000000</td>\n",
       "      <td>0.846688</td>\n",
       "      <td>31.512913</td>\n",
       "    </tr>\n",
       "    <tr>\n",
       "      <th>75%</th>\n",
       "      <td>105.000000</td>\n",
       "      <td>0.984283</td>\n",
       "      <td>39.964596</td>\n",
       "    </tr>\n",
       "    <tr>\n",
       "      <th>max</th>\n",
       "      <td>552.000000</td>\n",
       "      <td>1.000000</td>\n",
       "      <td>134.316667</td>\n",
       "    </tr>\n",
       "  </tbody>\n",
       "</table>\n",
       "</div>"
      ],
      "text/plain": [
       "              push  youzhi_rate  deliver_time\n",
       "count  2472.000000  2472.000000   2472.000000\n",
       "mean     54.408981     0.717955     29.320380\n",
       "std      72.523200     0.328431     16.911884\n",
       "min       1.000000     0.000000      0.000000\n",
       "25%       2.000000     0.571429     22.255473\n",
       "50%       8.000000     0.846688     31.512913\n",
       "75%     105.000000     0.984283     39.964596\n",
       "max     552.000000     1.000000    134.316667"
      ]
     },
     "execution_count": 23,
     "metadata": {},
     "output_type": "execute_result"
    }
   ],
   "source": [
    "iforest[names].describe()"
   ]
  },
  {
   "cell_type": "markdown",
   "metadata": {},
   "source": [
    "** 去除异常值中优质配送率小于0.9的，只选取推单数大于7的餐厅 ** "
   ]
  },
  {
   "cell_type": "code",
   "execution_count": 24,
   "metadata": {
    "collapsed": false
   },
   "outputs": [],
   "source": [
    "scaler=StandardScaler()\n",
    "names1=['push','yichang_rate','min60_rate','judan_rate','chaping_rate','tousu_rate','deliver_time']\n",
    "iforest_new=iforest.ix[((iforest.youzhi_rate<0.9)&(iforest.push>7)),]\n",
    "iforest1=iforest_new[name]"
   ]
  },
  {
   "cell_type": "code",
   "execution_count": 25,
   "metadata": {
    "collapsed": false
   },
   "outputs": [
    {
     "data": {
      "text/plain": [
       "(490, 22)"
      ]
     },
     "execution_count": 25,
     "metadata": {},
     "output_type": "execute_result"
    }
   ],
   "source": [
    "iforest_new.shape"
   ]
  },
  {
   "cell_type": "code",
   "execution_count": 26,
   "metadata": {
    "collapsed": false
   },
   "outputs": [
    {
     "data": {
      "text/html": [
       "<div>\n",
       "<table border=\"1\" class=\"dataframe\">\n",
       "  <thead>\n",
       "    <tr style=\"text-align: right;\">\n",
       "      <th></th>\n",
       "      <th>push</th>\n",
       "      <th>youzhi_rate</th>\n",
       "      <th>deliver_time</th>\n",
       "    </tr>\n",
       "  </thead>\n",
       "  <tbody>\n",
       "    <tr>\n",
       "      <th>count</th>\n",
       "      <td>490.000000</td>\n",
       "      <td>490.000000</td>\n",
       "      <td>490.000000</td>\n",
       "    </tr>\n",
       "    <tr>\n",
       "      <th>mean</th>\n",
       "      <td>54.008163</td>\n",
       "      <td>0.754426</td>\n",
       "      <td>36.943728</td>\n",
       "    </tr>\n",
       "    <tr>\n",
       "      <th>std</th>\n",
       "      <td>64.026962</td>\n",
       "      <td>0.153231</td>\n",
       "      <td>9.365147</td>\n",
       "    </tr>\n",
       "    <tr>\n",
       "      <th>min</th>\n",
       "      <td>8.000000</td>\n",
       "      <td>0.000000</td>\n",
       "      <td>0.000000</td>\n",
       "    </tr>\n",
       "    <tr>\n",
       "      <th>25%</th>\n",
       "      <td>14.000000</td>\n",
       "      <td>0.700000</td>\n",
       "      <td>30.758333</td>\n",
       "    </tr>\n",
       "    <tr>\n",
       "      <th>50%</th>\n",
       "      <td>28.500000</td>\n",
       "      <td>0.797532</td>\n",
       "      <td>38.539167</td>\n",
       "    </tr>\n",
       "    <tr>\n",
       "      <th>75%</th>\n",
       "      <td>69.750000</td>\n",
       "      <td>0.861023</td>\n",
       "      <td>43.060573</td>\n",
       "    </tr>\n",
       "    <tr>\n",
       "      <th>max</th>\n",
       "      <td>552.000000</td>\n",
       "      <td>0.899083</td>\n",
       "      <td>62.296970</td>\n",
       "    </tr>\n",
       "  </tbody>\n",
       "</table>\n",
       "</div>"
      ],
      "text/plain": [
       "             push  youzhi_rate  deliver_time\n",
       "count  490.000000   490.000000    490.000000\n",
       "mean    54.008163     0.754426     36.943728\n",
       "std     64.026962     0.153231      9.365147\n",
       "min      8.000000     0.000000      0.000000\n",
       "25%     14.000000     0.700000     30.758333\n",
       "50%     28.500000     0.797532     38.539167\n",
       "75%     69.750000     0.861023     43.060573\n",
       "max    552.000000     0.899083     62.296970"
      ]
     },
     "execution_count": 26,
     "metadata": {},
     "output_type": "execute_result"
    }
   ],
   "source": [
    "iforest1[names].describe()"
   ]
  },
  {
   "cell_type": "markdown",
   "metadata": {},
   "source": [
    "#### 用K-means找异常值 "
   ]
  },
  {
   "cell_type": "code",
   "execution_count": 27,
   "metadata": {
    "collapsed": false
   },
   "outputs": [],
   "source": [
    "df1_scaled=pd.DataFrame(df1_scaled)\n",
    "df1_scaled.columns=['push','youzhi_rate','deliver_time']"
   ]
  },
  {
   "cell_type": "code",
   "execution_count": 28,
   "metadata": {
    "collapsed": false
   },
   "outputs": [
    {
     "data": {
      "text/plain": [
       "KMeans(algorithm='auto', copy_x=True, init='k-means++', max_iter=300,\n",
       "    n_clusters=4, n_init=10, n_jobs=1, precompute_distances='auto',\n",
       "    random_state=1, tol=0.0001, verbose=0)"
      ]
     },
     "execution_count": 28,
     "metadata": {},
     "output_type": "execute_result"
    }
   ],
   "source": [
    "km=KMeans(n_clusters=4,random_state=1)\n",
    "km.fit(df1_scaled)"
   ]
  },
  {
   "cell_type": "code",
   "execution_count": 29,
   "metadata": {
    "collapsed": false
   },
   "outputs": [
    {
     "name": "stderr",
     "output_type": "stream",
     "text": [
      "/Users/ymzhang/anaconda/lib/python3.6/site-packages/ipykernel/__main__.py:1: SettingWithCopyWarning: \n",
      "A value is trying to be set on a copy of a slice from a DataFrame.\n",
      "Try using .loc[row_indexer,col_indexer] = value instead\n",
      "\n",
      "See the caveats in the documentation: http://pandas.pydata.org/pandas-docs/stable/indexing.html#indexing-view-versus-copy\n",
      "  if __name__ == '__main__':\n"
     ]
    }
   ],
   "source": [
    "df1['cluster']=km.labels_"
   ]
  },
  {
   "cell_type": "code",
   "execution_count": 30,
   "metadata": {
    "collapsed": false
   },
   "outputs": [
    {
     "name": "stderr",
     "output_type": "stream",
     "text": [
      "/Users/ymzhang/anaconda/lib/python3.6/site-packages/ipykernel/__main__.py:1: FutureWarning: sort(columns=....) is deprecated, use sort_values(by=.....)\n",
      "  if __name__ == '__main__':\n"
     ]
    },
    {
     "data": {
      "text/html": [
       "<div>\n",
       "<table border=\"1\" class=\"dataframe\">\n",
       "  <thead>\n",
       "    <tr style=\"text-align: right;\">\n",
       "      <th></th>\n",
       "      <th>push</th>\n",
       "      <th>youzhi_rate</th>\n",
       "      <th>deliver_time</th>\n",
       "      <th>cluster</th>\n",
       "    </tr>\n",
       "  </thead>\n",
       "  <tbody>\n",
       "    <tr>\n",
       "      <th>0</th>\n",
       "      <td>146</td>\n",
       "      <td>0.883562</td>\n",
       "      <td>0.000000</td>\n",
       "      <td>0</td>\n",
       "    </tr>\n",
       "    <tr>\n",
       "      <th>2395</th>\n",
       "      <td>118</td>\n",
       "      <td>0.957627</td>\n",
       "      <td>38.315152</td>\n",
       "      <td>0</td>\n",
       "    </tr>\n",
       "    <tr>\n",
       "      <th>11327</th>\n",
       "      <td>98</td>\n",
       "      <td>0.989796</td>\n",
       "      <td>24.006293</td>\n",
       "      <td>0</td>\n",
       "    </tr>\n",
       "    <tr>\n",
       "      <th>6721</th>\n",
       "      <td>124</td>\n",
       "      <td>0.991935</td>\n",
       "      <td>31.866116</td>\n",
       "      <td>0</td>\n",
       "    </tr>\n",
       "    <tr>\n",
       "      <th>6719</th>\n",
       "      <td>70</td>\n",
       "      <td>1.000000</td>\n",
       "      <td>25.855238</td>\n",
       "      <td>0</td>\n",
       "    </tr>\n",
       "  </tbody>\n",
       "</table>\n",
       "</div>"
      ],
      "text/plain": [
       "       push  youzhi_rate  deliver_time  cluster\n",
       "0       146     0.883562      0.000000        0\n",
       "2395    118     0.957627     38.315152        0\n",
       "11327    98     0.989796     24.006293        0\n",
       "6721    124     0.991935     31.866116        0\n",
       "6719     70     1.000000     25.855238        0"
      ]
     },
     "execution_count": 30,
     "metadata": {},
     "output_type": "execute_result"
    }
   ],
   "source": [
    "df1.sort('cluster').head()"
   ]
  },
  {
   "cell_type": "code",
   "execution_count": 31,
   "metadata": {
    "collapsed": false
   },
   "outputs": [
    {
     "data": {
      "text/html": [
       "<div>\n",
       "<table border=\"1\" class=\"dataframe\">\n",
       "  <thead>\n",
       "    <tr style=\"text-align: right;\">\n",
       "      <th></th>\n",
       "      <th>push</th>\n",
       "      <th>youzhi_rate</th>\n",
       "      <th>deliver_time</th>\n",
       "    </tr>\n",
       "    <tr>\n",
       "      <th>cluster</th>\n",
       "      <th></th>\n",
       "      <th></th>\n",
       "      <th></th>\n",
       "    </tr>\n",
       "  </thead>\n",
       "  <tbody>\n",
       "    <tr>\n",
       "      <th>0</th>\n",
       "      <td>109.008736</td>\n",
       "      <td>0.969651</td>\n",
       "      <td>30.786961</td>\n",
       "    </tr>\n",
       "    <tr>\n",
       "      <th>1</th>\n",
       "      <td>2.804511</td>\n",
       "      <td>0.178114</td>\n",
       "      <td>17.084891</td>\n",
       "    </tr>\n",
       "    <tr>\n",
       "      <th>2</th>\n",
       "      <td>13.394128</td>\n",
       "      <td>0.966905</td>\n",
       "      <td>34.262984</td>\n",
       "    </tr>\n",
       "    <tr>\n",
       "      <th>3</th>\n",
       "      <td>10.939588</td>\n",
       "      <td>0.990163</td>\n",
       "      <td>23.331784</td>\n",
       "    </tr>\n",
       "  </tbody>\n",
       "</table>\n",
       "</div>"
      ],
      "text/plain": [
       "               push  youzhi_rate  deliver_time\n",
       "cluster                                       \n",
       "0        109.008736     0.969651     30.786961\n",
       "1          2.804511     0.178114     17.084891\n",
       "2         13.394128     0.966905     34.262984\n",
       "3         10.939588     0.990163     23.331784"
      ]
     },
     "execution_count": 31,
     "metadata": {},
     "output_type": "execute_result"
    }
   ],
   "source": [
    "centers2=df1.groupby('cluster').mean()\n",
    "centers2"
   ]
  },
  {
   "cell_type": "markdown",
   "metadata": {},
   "source": [
    "#### 用silhouette_score确定选择几个组"
   ]
  },
  {
   "cell_type": "code",
   "execution_count": 33,
   "metadata": {
    "collapsed": false
   },
   "outputs": [],
   "source": [
    "# calculate SC for K=2 through K=6\n",
    "from sklearn import metrics\n",
    "k_range = range(2, 6)\n",
    "scores = []\n",
    "for k in k_range:\n",
    "    km = KMeans(n_clusters=k, random_state=1)\n",
    "    km.fit(df1[['push','youzhi_rate','deliver_time']])\n",
    "    scores.append(metrics.silhouette_score(df1_scaled, km.labels_))"
   ]
  },
  {
   "cell_type": "code",
   "execution_count": 34,
   "metadata": {
    "collapsed": false
   },
   "outputs": [
    {
     "data": {
      "image/png": "[encoded data removed]",
      "text/plain": [
       "<matplotlib.figure.Figure at 0x1195b73c8>"
      ]
     },
     "metadata": {},
     "output_type": "display_data"
    }
   ],
   "source": [
    "# plot the results\n",
    "plt.plot(k_range, scores)\n",
    "plt.xlabel('Number of clusters')\n",
    "plt.ylabel('Silhouette Coefficient')\n",
    "plt.grid(True)"
   ]
  },
  {
   "cell_type": "markdown",
   "metadata": {},
   "source": [
    "根据上面的结果显示分4组做K-means分析最好"
   ]
  },
  {
   "cell_type": "code",
   "execution_count": 35,
   "metadata": {
    "collapsed": false,
    "scrolled": true
   },
   "outputs": [
    {
     "data": {
      "text/plain": [
       "<matplotlib.text.Text at 0x11a4ad438>"
      ]
     },
     "execution_count": 35,
     "metadata": {},
     "output_type": "execute_result"
    },
    {
     "data": {
      "image/png": "[encoded data removed]",
      "text/plain": [
       "<matplotlib.figure.Figure at 0x11b42d550>"
      ]
     },
     "metadata": {},
     "output_type": "display_data"
    }
   ],
   "source": [
    "# allow plots to appear in the notebook\n",
    "%matplotlib inline\n",
    "import matplotlib.pyplot as plt\n",
    "plt.rcParams['font.size'] = 14\n",
    "# create a \"colors\" array for plotting\n",
    "import numpy as np\n",
    "colors = np.array(['red', 'green', 'blue', 'yellow','purple','orange'])\n",
    "# scatter plot of calories versus alcohol, colored by cluster (0=red, 1=green, 2=blue)\n",
    "plt.scatter(df1.push, df1.youzhi_rate, c=colors[df1.cluster])\n",
    "\n",
    "# cluster centers, marked by \"+\"\n",
    "plt.scatter(centers2.push, centers2.youzhi_rate, linewidths=3, marker='+', s=300, c='black')\n",
    "\n",
    "# add labels\n",
    "plt.ylabel('youzhi_rate')\n",
    "plt.xlabel('push')"
   ]
  },
  {
   "cell_type": "markdown",
   "metadata": {},
   "source": [
    "从上面图来说，觉得kmeans 这个方法不太适用于异常商家的识别问题。感觉到第三组和第四组太混乱，没有明显的界限。此处选择k=4。"
   ]
  },
  {
   "cell_type": "markdown",
   "metadata": {},
   "source": [
    "#### Hierarchy cluster"
   ]
  },
  {
   "cell_type": "code",
   "execution_count": 36,
   "metadata": {
    "collapsed": true
   },
   "outputs": [],
   "source": [
    "from matplotlib import pyplot as plt\n",
    "from scipy.cluster.hierarchy import dendrogram, linkage\n",
    "import numpy as np \n",
    "%matplotlib inline \n"
   ]
  },
  {
   "cell_type": "code",
   "execution_count": 37,
   "metadata": {
    "collapsed": false
   },
   "outputs": [],
   "source": [
    "Z=linkage(df1_scaled,'ward')"
   ]
  },
  {
   "cell_type": "code",
   "execution_count": 38,
   "metadata": {
    "collapsed": false
   },
   "outputs": [
    {
     "data": {
      "image/png": "[encoded data removed]",
      "text/plain": [
       "<matplotlib.figure.Figure at 0x119624470>"
      ]
     },
     "metadata": {},
     "output_type": "display_data"
    }
   ],
   "source": [
    "plt.figure(figsize=(25,10))\n",
    "plt.title('Hierarchical Clustering Dendrogram') \n",
    "plt.xlabel('sample index')\n",
    "plt.ylabel('distance')\n",
    "dendrogram(\n",
    "    Z,\n",
    "    leaf_rotation=90.,  # rotates the x axis labels\n",
    "    leaf_font_size=8.,  # font size for the x axis labels\n",
    ")\n",
    "plt.show()"
   ]
  },
  {
   "cell_type": "code",
   "execution_count": 39,
   "metadata": {
    "collapsed": false
   },
   "outputs": [
    {
     "name": "stderr",
     "output_type": "stream",
     "text": [
      "/Users/ymzhang/anaconda/lib/python3.6/site-packages/ipykernel/__main__.py:6: SettingWithCopyWarning: \n",
      "A value is trying to be set on a copy of a slice from a DataFrame.\n",
      "Try using .loc[row_indexer,col_indexer] = value instead\n",
      "\n",
      "See the caveats in the documentation: http://pandas.pydata.org/pandas-docs/stable/indexing.html#indexing-view-versus-copy\n"
     ]
    }
   ],
   "source": [
    "from scipy.cluster.hierarchy import fcluster\n",
    "max_d = 50\n",
    "clusters = fcluster(Z, max_d, criterion='distance')\n",
    "clusters\n",
    "k=4\n",
    "df1['Hcluster']=fcluster(Z, k, criterion='maxclust')-1"
   ]
  },
  {
   "cell_type": "code",
   "execution_count": 40,
   "metadata": {
    "collapsed": false
   },
   "outputs": [
    {
     "data": {
      "text/plain": [
       "<matplotlib.text.Text at 0x1195b7550>"
      ]
     },
     "execution_count": 40,
     "metadata": {},
     "output_type": "execute_result"
    },
    {
     "data": {
      "image/png": "[encoded data removed]",
      "text/plain": [
       "<matplotlib.figure.Figure at 0x11b400e80>"
      ]
     },
     "metadata": {},
     "output_type": "display_data"
    }
   ],
   "source": [
    "# allow plots to appear in the notebook\n",
    "%matplotlib inline\n",
    "import matplotlib.pyplot as plt\n",
    "plt.rcParams['font.size'] = 14\n",
    "# create a \"colors\" array for plotting\n",
    "import numpy as np\n",
    "colors = np.array(['red', 'green', 'blue', 'yellow','purple','orange','pink'])\n",
    "# scatter plot of calories versus alcohol, colored by cluster (0=red, 1=green, 2=blue)\n",
    "plt.scatter(df1.push, df1.youzhi_rate, c=colors[df1.Hcluster])\n",
    "\n",
    "# cluster centers, marked by \"+\"\n",
    "#plt.scatter(centers2.push, centers2.youzhi_rate, linewidths=3, marker='+', s=300, c='black')\n",
    "\n",
    "# add labels\n",
    "plt.xlabel('push')\n",
    "plt.ylabel('youzhi_rate')"
   ]
  },
  {
   "cell_type": "code",
   "execution_count": 41,
   "metadata": {
    "collapsed": false
   },
   "outputs": [],
   "source": [
    "writer = pd.ExcelWriter('iforest_new.xlsx', engine='xlsxwriter')\n",
    "iforest.to_excel(writer, sheet_name='Sheet1')"
   ]
  },
  {
   "cell_type": "code",
   "execution_count": 42,
   "metadata": {
    "collapsed": false
   },
   "outputs": [],
   "source": [
    "writer = pd.ExcelWriter('iforest_new.xlsx', engine='xlsxwriter')\n",
    "iforest_new.to_excel(writer, sheet_name='Sheet1')"
   ]
  },
  {
   "cell_type": "code",
   "execution_count": null,
   "metadata": {
    "collapsed": true
   },
   "outputs": [],
   "source": []
  }
 ],
 "metadata": {
  "kernelspec": {
   "display_name": "Python 3",
   "language": "python",
   "name": "python3"
  },
  "language_info": {
   "codemirror_mode": {
    "name": "ipython",
    "version": 3
   },
   "file_extension": ".py",
   "mimetype": "text/x-python",
   "name": "python",
   "nbconvert_exporter": "python",
   "pygments_lexer": "ipython3",
   "version": "3.6.0"
  }
 },
 "nbformat": 4,
 "nbformat_minor": 2
}
