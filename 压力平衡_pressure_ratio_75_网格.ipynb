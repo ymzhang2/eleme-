{
 "cells": [
  {
   "cell_type": "code",
   "execution_count": 118,
   "metadata": {
    "collapsed": false
   },
   "outputs": [],
   "source": [
    "import pandas as pd\n",
    "df_1 = pd.read_excel(open('/Users/ymzhang/Desktop/temp.xlsx','rb'), sheetname='sheet0')\n",
    "df_2 = pd.read_excel(open('/Users/ymzhang/Desktop/temp.xlsx','rb'), sheetname='sheet1')\n",
    "df_3 = pd.read_excel(open('/Users/ymzhang/Desktop/temp.xlsx','rb'), sheetname='sheet2')"
   ]
  },
  {
   "cell_type": "code",
   "execution_count": 119,
   "metadata": {
    "collapsed": false
   },
   "outputs": [],
   "source": [
    "df=df_1.append([df_2,df_3])"
   ]
  },
  {
   "cell_type": "code",
   "execution_count": 120,
   "metadata": {
    "collapsed": false
   },
   "outputs": [
    {
     "data": {
      "text/plain": [
       "Index(['order_date', 'full_name', 'grid_id', 'grid_name', 'avg_pressure_ratio',\n",
       "       'pressure_ratio_90', 'pressure_ratio_75', 'avg_rider_load',\n",
       "       'rider_load_90', 'rider_load_75', 'eleme_order_cnt',\n",
       "       'tracking_order_cnt', 'completion_cnt', 'avg_time_cost', 'overtime_cnt',\n",
       "       'overtime_cnt_40', 'cancel_order_cnt', 'fraud_cnt', 'index', 'rank'],\n",
       "      dtype='object')"
      ]
     },
     "execution_count": 120,
     "metadata": {},
     "output_type": "execute_result"
    }
   ],
   "source": [
    "df.columns"
   ]
  },
  {
   "cell_type": "code",
   "execution_count": 121,
   "metadata": {
    "collapsed": true
   },
   "outputs": [],
   "source": [
    "df.rename(columns={'full_name':'city'}, inplace=True)\n",
    "df.rename(columns={'avg_pressure_ratio':'pressure_ratio'}, inplace=True)\n",
    "df.rename(columns={'avg_rider_load':'rider_load'}, inplace=True)\n",
    "df.rename(columns={'avg_time_cost':'time_cost'}, inplace=True)"
   ]
  },
  {
   "cell_type": "code",
   "execution_count": 122,
   "metadata": {
    "collapsed": false
   },
   "outputs": [],
   "source": [
    "df['completion_rate']=df.completion_cnt/(df.tracking_order_cnt-df.fraud_cnt)\n",
    "df['overtime_rate']=df.overtime_cnt/df.completion_cnt\n",
    "df['overtime_rate_40']=df.overtime_cnt_40/df.completion_cnt\n",
    "df['cancel_rate']=df.cancel_order_cnt/(df.tracking_order_cnt-df.fraud_cnt)"
   ]
  },
  {
   "cell_type": "code",
   "execution_count": 123,
   "metadata": {
    "collapsed": false
   },
   "outputs": [],
   "source": [
    "df.completion_rate=round(df.completion_rate,4)\n",
    "df.pressure_ratio_75=round(df.pressure_ratio_75,4)\n",
    "df.time_cost=round(df.time_cost/60,4)\n",
    "df.overtime_rate=round(df.overtime_rate,4)\n",
    "df.overtime_rate_40=round(df.overtime_rate_40,4)\n",
    "df.cancel_rate=round(df.cancel_rate,4)"
   ]
  },
  {
   "cell_type": "code",
   "execution_count": 124,
   "metadata": {
    "collapsed": false
   },
   "outputs": [
    {
     "data": {
      "text/plain": [
       "626"
      ]
     },
     "execution_count": 124,
     "metadata": {},
     "output_type": "execute_result"
    }
   ],
   "source": [
    "sum(df.groupby(['city','grid_id']).size()<72) "
   ]
  },
  {
   "cell_type": "markdown",
   "metadata": {},
   "source": [
    "一共取了72天的数据做网格压力预警值，发现有626个餐厅所取天数小于72，在这里先删掉，不处理。"
   ]
  },
  {
   "cell_type": "code",
   "execution_count": 125,
   "metadata": {
    "collapsed": false
   },
   "outputs": [
    {
     "data": {
      "text/plain": [
       "(277754, 24)"
      ]
     },
     "execution_count": 125,
     "metadata": {},
     "output_type": "execute_result"
    }
   ],
   "source": [
    "df.shape"
   ]
  },
  {
   "cell_type": "code",
   "execution_count": 126,
   "metadata": {
    "collapsed": false
   },
   "outputs": [],
   "source": [
    "anomal_grids = df.groupby(['grid_id', 'city']).agg({'order_date': len})\n",
    "anomal_grids= anomal_grids[anomal_grids.order_date == 72]\n",
    "grids = pd.unique(anomal_grids.index.get_level_values('grid_id'))\n",
    "df1 = df[df['grid_id'].isin(grids)]\n"
   ]
  },
  {
   "cell_type": "code",
   "execution_count": 127,
   "metadata": {
    "collapsed": false
   },
   "outputs": [
    {
     "data": {
      "text/plain": [
       "(273465,)"
      ]
     },
     "execution_count": 127,
     "metadata": {},
     "output_type": "execute_result"
    }
   ],
   "source": [
    "df1.grid_id.shape"
   ]
  },
  {
   "cell_type": "code",
   "execution_count": 128,
   "metadata": {
    "collapsed": true
   },
   "outputs": [],
   "source": [
    "names=['order_date','city','grid_id','pressure_ratio_75','time_cost','completion_rate','overtime_rate','overtime_rate_40','cancel_rate']\n",
    "names1=['pressure_ratio_75','time_cost','completion_rate','overtime_rate','overtime_rate_40','cancel_rate']\n"
   ]
  },
  {
   "cell_type": "code",
   "execution_count": 129,
   "metadata": {
    "collapsed": false
   },
   "outputs": [],
   "source": [
    "df2=df1[names].dropna()\n"
   ]
  },
  {
   "cell_type": "code",
   "execution_count": 130,
   "metadata": {
    "collapsed": false
   },
   "outputs": [
    {
     "data": {
      "text/plain": [
       "(262110, 9)"
      ]
     },
     "execution_count": 130,
     "metadata": {},
     "output_type": "execute_result"
    }
   ],
   "source": [
    "df2.shape"
   ]
  },
  {
   "cell_type": "code",
   "execution_count": 131,
   "metadata": {
    "collapsed": false
   },
   "outputs": [
    {
     "data": {
      "text/plain": [
       "(array([  2.,   5.,  32.,  20.,   8.,   1.,   3.,   0.,   0.,   1.]),\n",
       " array([ 24.8404 ,  28.70512,  32.56984,  36.43456,  40.29928,  44.164  ,\n",
       "         48.02872,  51.89344,  55.75816,  59.62288,  63.4876 ]),\n",
       " <a list of 10 Patch objects>)"
      ]
     },
     "execution_count": 131,
     "metadata": {},
     "output_type": "execute_result"
    },
    {
     "data": {
      "image/png": "[encoded data removed]",
      "text/plain": [
       "<matplotlib.figure.Figure at 0x1338bcc50>"
      ]
     },
     "metadata": {},
     "output_type": "display_data"
    }
   ],
   "source": [
    "import matplotlib.pyplot as plt \n",
    "%matplotlib inline\n",
    "plt.hist(df2.ix[df2.grid_id==2,].time_cost)"
   ]
  },
  {
   "cell_type": "markdown",
   "metadata": {},
   "source": [
    "配送时长直方图"
   ]
  },
  {
   "cell_type": "code",
   "execution_count": 132,
   "metadata": {
    "collapsed": false
   },
   "outputs": [
    {
     "data": {
      "text/plain": [
       "(array([ 55.,  10.,   2.,   2.,   1.,   1.,   0.,   0.,   0.,   1.]),\n",
       " array([ 0.     ,  0.02956,  0.05912,  0.08868,  0.11824,  0.1478 ,\n",
       "         0.17736,  0.20692,  0.23648,  0.26604,  0.2956 ]),\n",
       " <a list of 10 Patch objects>)"
      ]
     },
     "execution_count": 132,
     "metadata": {},
     "output_type": "execute_result"
    },
    {
     "data": {
      "image/png": "[encoded data removed]",
      "text/plain": [
       "<matplotlib.figure.Figure at 0x1274fa400>"
      ]
     },
     "metadata": {},
     "output_type": "display_data"
    }
   ],
   "source": [
    "plt.hist(df2.ix[df2.grid_id==2,].overtime_rate)"
   ]
  },
  {
   "cell_type": "markdown",
   "metadata": {},
   "source": [
    "超时率直方图"
   ]
  },
  {
   "cell_type": "code",
   "execution_count": 133,
   "metadata": {
    "collapsed": false
   },
   "outputs": [
    {
     "data": {
      "text/plain": [
       "(array([  3.,   3.,  14.,  16.,  15.,   8.,   9.,   2.,   1.,   1.]),\n",
       " array([ 0.102  ,  0.16822,  0.23444,  0.30066,  0.36688,  0.4331 ,\n",
       "         0.49932,  0.56554,  0.63176,  0.69798,  0.7642 ]),\n",
       " <a list of 10 Patch objects>)"
      ]
     },
     "execution_count": 133,
     "metadata": {},
     "output_type": "execute_result"
    },
    {
     "data": {
      "image/png": "[encoded data removed]",
      "text/plain": [
       "<matplotlib.figure.Figure at 0x127517cc0>"
      ]
     },
     "metadata": {},
     "output_type": "display_data"
    }
   ],
   "source": [
    "plt.hist(df2.ix[df2.grid_id==2,].overtime_rate_40)"
   ]
  },
  {
   "cell_type": "markdown",
   "metadata": {},
   "source": [
    "40分钟超时率直方图"
   ]
  },
  {
   "cell_type": "code",
   "execution_count": 134,
   "metadata": {
    "collapsed": false
   },
   "outputs": [
    {
     "data": {
      "text/plain": [
       "(array([ 41.,  17.,   8.,   3.,   1.,   0.,   0.,   1.,   0.,   1.]),\n",
       " array([ 0.     ,  0.00336,  0.00672,  0.01008,  0.01344,  0.0168 ,\n",
       "         0.02016,  0.02352,  0.02688,  0.03024,  0.0336 ]),\n",
       " <a list of 10 Patch objects>)"
      ]
     },
     "execution_count": 134,
     "metadata": {},
     "output_type": "execute_result"
    },
    {
     "data": {
      "image/png": "[encoded data removed]",
      "text/plain": [
       "<matplotlib.figure.Figure at 0x12e58e748>"
      ]
     },
     "metadata": {},
     "output_type": "display_data"
    }
   ],
   "source": [
    "plt.hist(df2.ix[df2.grid_id==2,].cancel_rate)"
   ]
  },
  {
   "cell_type": "markdown",
   "metadata": {},
   "source": [
    "异常取消率的直方图"
   ]
  },
  {
   "cell_type": "markdown",
   "metadata": {},
   "source": [
    "去除异常值"
   ]
  },
  {
   "cell_type": "code",
   "execution_count": 135,
   "metadata": {
    "collapsed": false
   },
   "outputs": [],
   "source": [
    "df3=df2.ix[(\n",
    "           (df2.cancel_rate<(df2.cancel_rate).quantile(0.95))&\n",
    "           (df2.overtime_rate<(df2.overtime_rate).quantile(0.95))&\n",
    "           (df2.pressure_ratio_75>0.1)\n",
    "           ),]"
   ]
  },
  {
   "cell_type": "code",
   "execution_count": 136,
   "metadata": {
    "collapsed": false
   },
   "outputs": [
    {
     "data": {
      "text/plain": [
       "(234192, 9)"
      ]
     },
     "execution_count": 136,
     "metadata": {},
     "output_type": "execute_result"
    }
   ],
   "source": [
    "df3.shape"
   ]
  },
  {
   "cell_type": "code",
   "execution_count": 137,
   "metadata": {
    "collapsed": false
   },
   "outputs": [
    {
     "data": {
      "text/plain": [
       "<matplotlib.axes._subplots.AxesSubplot at 0x12e2dacf8>"
      ]
     },
     "execution_count": 137,
     "metadata": {},
     "output_type": "execute_result"
    },
    {
     "data": {
      "image/png": "[encoded data removed]",
      "text/plain": [
       "<matplotlib.figure.Figure at 0x127517278>"
      ]
     },
     "metadata": {},
     "output_type": "display_data"
    }
   ],
   "source": [
    "%matplotlib inline\n",
    "df3.groupby(['grid_id','city']).size().hist()"
   ]
  },
  {
   "cell_type": "code",
   "execution_count": 138,
   "metadata": {
    "collapsed": true
   },
   "outputs": [],
   "source": [
    "anomal_grids1 = df.groupby(['grid_id', 'city']).agg({'order_date': len})\n",
    "#anomal_grids= anomal_grids[anomal_grids.order_date == 72]\n",
    "#grids = pd.unique(anomal_grids.index.get_level_values('grid_id'))\n",
    "#df1 = df[df['grid_id'].isin(grids)] "
   ]
  },
  {
   "cell_type": "code",
   "execution_count": 139,
   "metadata": {
    "collapsed": false
   },
   "outputs": [],
   "source": [
    "anomal_grids1=anomal_grids[anomal_grids.order_date>=20]\n",
    "grids1=pd.unique(anomal_grids1.index.get_level_values('grid_id'))\n",
    "df4=df3[df3.grid_id.isin(grids1)]"
   ]
  },
  {
   "cell_type": "code",
   "execution_count": 140,
   "metadata": {
    "collapsed": false
   },
   "outputs": [
    {
     "data": {
      "text/plain": [
       "(0, 1)"
      ]
     },
     "execution_count": 140,
     "metadata": {},
     "output_type": "execute_result"
    }
   ],
   "source": [
    "anomal_grids2=anomal_grids1[anomal_grids1.order_date<20]\n",
    "anomal_grids2.shape"
   ]
  },
  {
   "cell_type": "markdown",
   "metadata": {},
   "source": [
    "去除异常值和空值以后的网格观测天数直方图"
   ]
  },
  {
   "cell_type": "code",
   "execution_count": 141,
   "metadata": {
    "collapsed": false,
    "scrolled": false
   },
   "outputs": [
    {
     "name": "stderr",
     "output_type": "stream",
     "text": [
      "/Users/ymzhang/anaconda/lib/python3.6/site-packages/ipykernel/__main__.py:7: RuntimeWarning: invalid value encountered in double_scalars\n"
     ]
    },
    {
     "data": {
      "text/html": [
       "<div>\n",
       "<table border=\"1\" class=\"dataframe\">\n",
       "  <thead>\n",
       "    <tr style=\"text-align: right;\">\n",
       "      <th></th>\n",
       "      <th></th>\n",
       "      <th>overtime_rate_40</th>\n",
       "      <th>overtime_rate</th>\n",
       "      <th>cancel_rate</th>\n",
       "      <th>time_cost</th>\n",
       "    </tr>\n",
       "    <tr>\n",
       "      <th>city</th>\n",
       "      <th>grid_id</th>\n",
       "      <th></th>\n",
       "      <th></th>\n",
       "      <th></th>\n",
       "      <th></th>\n",
       "    </tr>\n",
       "  </thead>\n",
       "  <tbody>\n",
       "    <tr>\n",
       "      <th rowspan=\"5\" valign=\"top\">三亚市</th>\n",
       "      <th>1859</th>\n",
       "      <td>0.697294</td>\n",
       "      <td>0.751078</td>\n",
       "      <td>-0.841423</td>\n",
       "      <td>0.673414</td>\n",
       "    </tr>\n",
       "    <tr>\n",
       "      <th>2027</th>\n",
       "      <td>0.439889</td>\n",
       "      <td>0.428677</td>\n",
       "      <td>1.182973</td>\n",
       "      <td>0.428552</td>\n",
       "    </tr>\n",
       "    <tr>\n",
       "      <th>2049</th>\n",
       "      <td>0.451145</td>\n",
       "      <td>0.649757</td>\n",
       "      <td>NaN</td>\n",
       "      <td>0.440396</td>\n",
       "    </tr>\n",
       "    <tr>\n",
       "      <th>2262</th>\n",
       "      <td>0.587306</td>\n",
       "      <td>0.647846</td>\n",
       "      <td>0.814983</td>\n",
       "      <td>0.565233</td>\n",
       "    </tr>\n",
       "    <tr>\n",
       "      <th>13809</th>\n",
       "      <td>0.609075</td>\n",
       "      <td>0.632924</td>\n",
       "      <td>-0.035992</td>\n",
       "      <td>0.574225</td>\n",
       "    </tr>\n",
       "    <tr>\n",
       "      <th rowspan=\"25\" valign=\"top\">上海市</th>\n",
       "      <th>34</th>\n",
       "      <td>-3.965201</td>\n",
       "      <td>0.315347</td>\n",
       "      <td>NaN</td>\n",
       "      <td>5.423083</td>\n",
       "    </tr>\n",
       "    <tr>\n",
       "      <th>37</th>\n",
       "      <td>0.824377</td>\n",
       "      <td>0.886035</td>\n",
       "      <td>9.510436</td>\n",
       "      <td>0.827310</td>\n",
       "    </tr>\n",
       "    <tr>\n",
       "      <th>38</th>\n",
       "      <td>0.833859</td>\n",
       "      <td>0.676216</td>\n",
       "      <td>-0.474050</td>\n",
       "      <td>0.785537</td>\n",
       "    </tr>\n",
       "    <tr>\n",
       "      <th>39</th>\n",
       "      <td>0.913446</td>\n",
       "      <td>0.744287</td>\n",
       "      <td>1.020576</td>\n",
       "      <td>0.877771</td>\n",
       "    </tr>\n",
       "    <tr>\n",
       "      <th>40</th>\n",
       "      <td>0.916881</td>\n",
       "      <td>1.111277</td>\n",
       "      <td>1.922417</td>\n",
       "      <td>0.822945</td>\n",
       "    </tr>\n",
       "    <tr>\n",
       "      <th>42</th>\n",
       "      <td>0.726536</td>\n",
       "      <td>0.730911</td>\n",
       "      <td>-4.127500</td>\n",
       "      <td>0.668126</td>\n",
       "    </tr>\n",
       "    <tr>\n",
       "      <th>43</th>\n",
       "      <td>0.704300</td>\n",
       "      <td>0.763442</td>\n",
       "      <td>0.422465</td>\n",
       "      <td>0.707465</td>\n",
       "    </tr>\n",
       "    <tr>\n",
       "      <th>44</th>\n",
       "      <td>0.783672</td>\n",
       "      <td>0.743810</td>\n",
       "      <td>0.090391</td>\n",
       "      <td>0.752393</td>\n",
       "    </tr>\n",
       "    <tr>\n",
       "      <th>45</th>\n",
       "      <td>1.102573</td>\n",
       "      <td>1.097631</td>\n",
       "      <td>1.447944</td>\n",
       "      <td>1.151706</td>\n",
       "    </tr>\n",
       "    <tr>\n",
       "      <th>58</th>\n",
       "      <td>1.143688</td>\n",
       "      <td>0.240148</td>\n",
       "      <td>NaN</td>\n",
       "      <td>0.494214</td>\n",
       "    </tr>\n",
       "    <tr>\n",
       "      <th>84</th>\n",
       "      <td>0.739058</td>\n",
       "      <td>0.627271</td>\n",
       "      <td>0.903099</td>\n",
       "      <td>0.683811</td>\n",
       "    </tr>\n",
       "    <tr>\n",
       "      <th>85</th>\n",
       "      <td>1.053530</td>\n",
       "      <td>1.175096</td>\n",
       "      <td>1.584897</td>\n",
       "      <td>1.027881</td>\n",
       "    </tr>\n",
       "    <tr>\n",
       "      <th>186</th>\n",
       "      <td>0.451491</td>\n",
       "      <td>NaN</td>\n",
       "      <td>NaN</td>\n",
       "      <td>0.318720</td>\n",
       "    </tr>\n",
       "    <tr>\n",
       "      <th>374</th>\n",
       "      <td>0.524361</td>\n",
       "      <td>0.580540</td>\n",
       "      <td>0.847251</td>\n",
       "      <td>0.510344</td>\n",
       "    </tr>\n",
       "    <tr>\n",
       "      <th>394</th>\n",
       "      <td>0.830864</td>\n",
       "      <td>1.479843</td>\n",
       "      <td>NaN</td>\n",
       "      <td>0.864687</td>\n",
       "    </tr>\n",
       "    <tr>\n",
       "      <th>410</th>\n",
       "      <td>0.634924</td>\n",
       "      <td>0.692430</td>\n",
       "      <td>0.179492</td>\n",
       "      <td>0.623408</td>\n",
       "    </tr>\n",
       "    <tr>\n",
       "      <th>1230</th>\n",
       "      <td>-0.627989</td>\n",
       "      <td>0.441819</td>\n",
       "      <td>NaN</td>\n",
       "      <td>1.415389</td>\n",
       "    </tr>\n",
       "    <tr>\n",
       "      <th>1312</th>\n",
       "      <td>0.226006</td>\n",
       "      <td>NaN</td>\n",
       "      <td>NaN</td>\n",
       "      <td>0.197218</td>\n",
       "    </tr>\n",
       "    <tr>\n",
       "      <th>1335</th>\n",
       "      <td>0.541802</td>\n",
       "      <td>NaN</td>\n",
       "      <td>NaN</td>\n",
       "      <td>0.482223</td>\n",
       "    </tr>\n",
       "    <tr>\n",
       "      <th>1531</th>\n",
       "      <td>3.939235</td>\n",
       "      <td>NaN</td>\n",
       "      <td>NaN</td>\n",
       "      <td>0.710353</td>\n",
       "    </tr>\n",
       "    <tr>\n",
       "      <th>2674</th>\n",
       "      <td>0.545075</td>\n",
       "      <td>NaN</td>\n",
       "      <td>NaN</td>\n",
       "      <td>0.518023</td>\n",
       "    </tr>\n",
       "    <tr>\n",
       "      <th>2727</th>\n",
       "      <td>NaN</td>\n",
       "      <td>NaN</td>\n",
       "      <td>NaN</td>\n",
       "      <td>0.365580</td>\n",
       "    </tr>\n",
       "    <tr>\n",
       "      <th>2741</th>\n",
       "      <td>1.060164</td>\n",
       "      <td>NaN</td>\n",
       "      <td>NaN</td>\n",
       "      <td>0.656409</td>\n",
       "    </tr>\n",
       "    <tr>\n",
       "      <th>2930</th>\n",
       "      <td>0.359135</td>\n",
       "      <td>NaN</td>\n",
       "      <td>NaN</td>\n",
       "      <td>0.359135</td>\n",
       "    </tr>\n",
       "    <tr>\n",
       "      <th>3009</th>\n",
       "      <td>0.792134</td>\n",
       "      <td>NaN</td>\n",
       "      <td>NaN</td>\n",
       "      <td>0.737556</td>\n",
       "    </tr>\n",
       "    <tr>\n",
       "      <th>...</th>\n",
       "      <th>...</th>\n",
       "      <td>...</td>\n",
       "      <td>...</td>\n",
       "      <td>...</td>\n",
       "      <td>...</td>\n",
       "    </tr>\n",
       "    <tr>\n",
       "      <th rowspan=\"18\" valign=\"top\">青岛市</th>\n",
       "      <th>8365</th>\n",
       "      <td>0.622884</td>\n",
       "      <td>0.594888</td>\n",
       "      <td>0.852091</td>\n",
       "      <td>0.620128</td>\n",
       "    </tr>\n",
       "    <tr>\n",
       "      <th>8379</th>\n",
       "      <td>0.759515</td>\n",
       "      <td>0.741019</td>\n",
       "      <td>1.400400</td>\n",
       "      <td>0.728253</td>\n",
       "    </tr>\n",
       "    <tr>\n",
       "      <th>8391</th>\n",
       "      <td>0.703963</td>\n",
       "      <td>0.891273</td>\n",
       "      <td>-0.069488</td>\n",
       "      <td>0.721473</td>\n",
       "    </tr>\n",
       "    <tr>\n",
       "      <th>8430</th>\n",
       "      <td>0.468744</td>\n",
       "      <td>0.453147</td>\n",
       "      <td>-0.028796</td>\n",
       "      <td>0.452275</td>\n",
       "    </tr>\n",
       "    <tr>\n",
       "      <th>8436</th>\n",
       "      <td>0.425234</td>\n",
       "      <td>0.383984</td>\n",
       "      <td>-1.134170</td>\n",
       "      <td>0.399088</td>\n",
       "    </tr>\n",
       "    <tr>\n",
       "      <th>8445</th>\n",
       "      <td>0.439656</td>\n",
       "      <td>0.415357</td>\n",
       "      <td>1.207202</td>\n",
       "      <td>0.419364</td>\n",
       "    </tr>\n",
       "    <tr>\n",
       "      <th>8522</th>\n",
       "      <td>1.162831</td>\n",
       "      <td>0.883144</td>\n",
       "      <td>-1.990553</td>\n",
       "      <td>0.973984</td>\n",
       "    </tr>\n",
       "    <tr>\n",
       "      <th>8549</th>\n",
       "      <td>0.990798</td>\n",
       "      <td>1.466100</td>\n",
       "      <td>1.962678</td>\n",
       "      <td>1.003336</td>\n",
       "    </tr>\n",
       "    <tr>\n",
       "      <th>8961</th>\n",
       "      <td>0.595246</td>\n",
       "      <td>0.681949</td>\n",
       "      <td>-2.578473</td>\n",
       "      <td>0.580113</td>\n",
       "    </tr>\n",
       "    <tr>\n",
       "      <th>9087</th>\n",
       "      <td>0.591114</td>\n",
       "      <td>0.718713</td>\n",
       "      <td>4.001889</td>\n",
       "      <td>0.587540</td>\n",
       "    </tr>\n",
       "    <tr>\n",
       "      <th>9094</th>\n",
       "      <td>0.979189</td>\n",
       "      <td>-0.832916</td>\n",
       "      <td>0.211484</td>\n",
       "      <td>0.646694</td>\n",
       "    </tr>\n",
       "    <tr>\n",
       "      <th>9147</th>\n",
       "      <td>0.538458</td>\n",
       "      <td>0.650890</td>\n",
       "      <td>NaN</td>\n",
       "      <td>0.541330</td>\n",
       "    </tr>\n",
       "    <tr>\n",
       "      <th>10743</th>\n",
       "      <td>0.671264</td>\n",
       "      <td>0.710317</td>\n",
       "      <td>0.938989</td>\n",
       "      <td>0.673200</td>\n",
       "    </tr>\n",
       "    <tr>\n",
       "      <th>10831</th>\n",
       "      <td>0.795368</td>\n",
       "      <td>6.472165</td>\n",
       "      <td>2.544391</td>\n",
       "      <td>0.739959</td>\n",
       "    </tr>\n",
       "    <tr>\n",
       "      <th>13591</th>\n",
       "      <td>0.494017</td>\n",
       "      <td>0.530606</td>\n",
       "      <td>2.671764</td>\n",
       "      <td>0.491965</td>\n",
       "    </tr>\n",
       "    <tr>\n",
       "      <th>13834</th>\n",
       "      <td>0.514961</td>\n",
       "      <td>0.440088</td>\n",
       "      <td>1.030476</td>\n",
       "      <td>0.482426</td>\n",
       "    </tr>\n",
       "    <tr>\n",
       "      <th>13979</th>\n",
       "      <td>0.590396</td>\n",
       "      <td>0.561745</td>\n",
       "      <td>0.724812</td>\n",
       "      <td>0.542582</td>\n",
       "    </tr>\n",
       "    <tr>\n",
       "      <th>15588</th>\n",
       "      <td>0.523396</td>\n",
       "      <td>0.683509</td>\n",
       "      <td>0.150416</td>\n",
       "      <td>0.485942</td>\n",
       "    </tr>\n",
       "    <tr>\n",
       "      <th rowspan=\"12\" valign=\"top\">齐齐哈尔市</th>\n",
       "      <th>1283</th>\n",
       "      <td>0.439341</td>\n",
       "      <td>0.568945</td>\n",
       "      <td>0.601445</td>\n",
       "      <td>0.414030</td>\n",
       "    </tr>\n",
       "    <tr>\n",
       "      <th>1292</th>\n",
       "      <td>0.647456</td>\n",
       "      <td>0.550411</td>\n",
       "      <td>0.147286</td>\n",
       "      <td>0.615736</td>\n",
       "    </tr>\n",
       "    <tr>\n",
       "      <th>1520</th>\n",
       "      <td>0.507871</td>\n",
       "      <td>0.668686</td>\n",
       "      <td>NaN</td>\n",
       "      <td>0.508736</td>\n",
       "    </tr>\n",
       "    <tr>\n",
       "      <th>1588</th>\n",
       "      <td>0.686127</td>\n",
       "      <td>0.683924</td>\n",
       "      <td>0.894645</td>\n",
       "      <td>0.663278</td>\n",
       "    </tr>\n",
       "    <tr>\n",
       "      <th>2679</th>\n",
       "      <td>0.584433</td>\n",
       "      <td>0.630850</td>\n",
       "      <td>-21.954903</td>\n",
       "      <td>0.584897</td>\n",
       "    </tr>\n",
       "    <tr>\n",
       "      <th>4921</th>\n",
       "      <td>0.531548</td>\n",
       "      <td>0.693929</td>\n",
       "      <td>0.597930</td>\n",
       "      <td>0.523761</td>\n",
       "    </tr>\n",
       "    <tr>\n",
       "      <th>4961</th>\n",
       "      <td>0.600868</td>\n",
       "      <td>0.805798</td>\n",
       "      <td>-0.646164</td>\n",
       "      <td>0.589074</td>\n",
       "    </tr>\n",
       "    <tr>\n",
       "      <th>4964</th>\n",
       "      <td>0.609701</td>\n",
       "      <td>0.756385</td>\n",
       "      <td>3.358882</td>\n",
       "      <td>0.590510</td>\n",
       "    </tr>\n",
       "    <tr>\n",
       "      <th>4972</th>\n",
       "      <td>0.573602</td>\n",
       "      <td>0.615185</td>\n",
       "      <td>-1.205647</td>\n",
       "      <td>0.560830</td>\n",
       "    </tr>\n",
       "    <tr>\n",
       "      <th>5066</th>\n",
       "      <td>0.605862</td>\n",
       "      <td>0.768875</td>\n",
       "      <td>0.951771</td>\n",
       "      <td>0.559648</td>\n",
       "    </tr>\n",
       "    <tr>\n",
       "      <th>8047</th>\n",
       "      <td>0.440057</td>\n",
       "      <td>1.089975</td>\n",
       "      <td>-0.063606</td>\n",
       "      <td>0.448638</td>\n",
       "    </tr>\n",
       "    <tr>\n",
       "      <th>8049</th>\n",
       "      <td>0.604094</td>\n",
       "      <td>0.672729</td>\n",
       "      <td>0.668335</td>\n",
       "      <td>0.581011</td>\n",
       "    </tr>\n",
       "  </tbody>\n",
       "</table>\n",
       "<p>4099 rows × 4 columns</p>\n",
       "</div>"
      ],
      "text/plain": [
       "               overtime_rate_40  overtime_rate  cancel_rate  time_cost\n",
       "city  grid_id                                                         \n",
       "三亚市   1859             0.697294       0.751078    -0.841423   0.673414\n",
       "      2027             0.439889       0.428677     1.182973   0.428552\n",
       "      2049             0.451145       0.649757          NaN   0.440396\n",
       "      2262             0.587306       0.647846     0.814983   0.565233\n",
       "      13809            0.609075       0.632924    -0.035992   0.574225\n",
       "上海市   34              -3.965201       0.315347          NaN   5.423083\n",
       "      37               0.824377       0.886035     9.510436   0.827310\n",
       "      38               0.833859       0.676216    -0.474050   0.785537\n",
       "      39               0.913446       0.744287     1.020576   0.877771\n",
       "      40               0.916881       1.111277     1.922417   0.822945\n",
       "      42               0.726536       0.730911    -4.127500   0.668126\n",
       "      43               0.704300       0.763442     0.422465   0.707465\n",
       "      44               0.783672       0.743810     0.090391   0.752393\n",
       "      45               1.102573       1.097631     1.447944   1.151706\n",
       "      58               1.143688       0.240148          NaN   0.494214\n",
       "      84               0.739058       0.627271     0.903099   0.683811\n",
       "      85               1.053530       1.175096     1.584897   1.027881\n",
       "      186              0.451491            NaN          NaN   0.318720\n",
       "      374              0.524361       0.580540     0.847251   0.510344\n",
       "      394              0.830864       1.479843          NaN   0.864687\n",
       "      410              0.634924       0.692430     0.179492   0.623408\n",
       "      1230            -0.627989       0.441819          NaN   1.415389\n",
       "      1312             0.226006            NaN          NaN   0.197218\n",
       "      1335             0.541802            NaN          NaN   0.482223\n",
       "      1531             3.939235            NaN          NaN   0.710353\n",
       "      2674             0.545075            NaN          NaN   0.518023\n",
       "      2727                  NaN            NaN          NaN   0.365580\n",
       "      2741             1.060164            NaN          NaN   0.656409\n",
       "      2930             0.359135            NaN          NaN   0.359135\n",
       "      3009             0.792134            NaN          NaN   0.737556\n",
       "...                         ...            ...          ...        ...\n",
       "青岛市   8365             0.622884       0.594888     0.852091   0.620128\n",
       "      8379             0.759515       0.741019     1.400400   0.728253\n",
       "      8391             0.703963       0.891273    -0.069488   0.721473\n",
       "      8430             0.468744       0.453147    -0.028796   0.452275\n",
       "      8436             0.425234       0.383984    -1.134170   0.399088\n",
       "      8445             0.439656       0.415357     1.207202   0.419364\n",
       "      8522             1.162831       0.883144    -1.990553   0.973984\n",
       "      8549             0.990798       1.466100     1.962678   1.003336\n",
       "      8961             0.595246       0.681949    -2.578473   0.580113\n",
       "      9087             0.591114       0.718713     4.001889   0.587540\n",
       "      9094             0.979189      -0.832916     0.211484   0.646694\n",
       "      9147             0.538458       0.650890          NaN   0.541330\n",
       "      10743            0.671264       0.710317     0.938989   0.673200\n",
       "      10831            0.795368       6.472165     2.544391   0.739959\n",
       "      13591            0.494017       0.530606     2.671764   0.491965\n",
       "      13834            0.514961       0.440088     1.030476   0.482426\n",
       "      13979            0.590396       0.561745     0.724812   0.542582\n",
       "      15588            0.523396       0.683509     0.150416   0.485942\n",
       "齐齐哈尔市 1283             0.439341       0.568945     0.601445   0.414030\n",
       "      1292             0.647456       0.550411     0.147286   0.615736\n",
       "      1520             0.507871       0.668686          NaN   0.508736\n",
       "      1588             0.686127       0.683924     0.894645   0.663278\n",
       "      2679             0.584433       0.630850   -21.954903   0.584897\n",
       "      4921             0.531548       0.693929     0.597930   0.523761\n",
       "      4961             0.600868       0.805798    -0.646164   0.589074\n",
       "      4964             0.609701       0.756385     3.358882   0.590510\n",
       "      4972             0.573602       0.615185    -1.205647   0.560830\n",
       "      5066             0.605862       0.768875     0.951771   0.559648\n",
       "      8047             0.440057       1.089975    -0.063606   0.448638\n",
       "      8049             0.604094       0.672729     0.668335   0.581011\n",
       "\n",
       "[4099 rows x 4 columns]"
      ]
     },
     "execution_count": 141,
     "metadata": {},
     "output_type": "execute_result"
    }
   ],
   "source": [
    "from sklearn.linear_model import LinearRegression\n",
    "df4.reset_index(inplace=True)\n",
    "def df5_lm_std(x):\n",
    "    pressure = pd.DataFrame(df4.ix[x.index].pressure_ratio_75)\n",
    "    lm = LinearRegression().fit(pressure,x)\n",
    "    threshold = x.quantile(0.85)    \n",
    "    return (threshold-lm.intercept_)/lm.coef_[0]\n",
    "result1=df4.groupby(['city','grid_id']).agg({'overtime_rate_40': df5_lm_std,\n",
    "                         'overtime_rate': df5_lm_std,\n",
    "                         'cancel_rate': df5_lm_std,\n",
    "                         'time_cost': df5_lm_std})\n",
    "result1\n",
    "\n"
   ]
  },
  {
   "cell_type": "code",
   "execution_count": 142,
   "metadata": {
    "collapsed": false
   },
   "outputs": [],
   "source": [
    "writer = pd.ExcelWriter('result1.xlsx', engine='xlsxwriter')\n",
    "result1.to_excel(writer, sheet_name='Sheet0')"
   ]
  },
  {
   "cell_type": "code",
   "execution_count": 143,
   "metadata": {
    "collapsed": false
   },
   "outputs": [],
   "source": [
    "df4_85=df4.ix[(df4.city=='上海市')&(df4.grid_id==85),]"
   ]
  },
  {
   "cell_type": "code",
   "execution_count": 144,
   "metadata": {
    "collapsed": false
   },
   "outputs": [
    {
     "name": "stderr",
     "output_type": "stream",
     "text": [
      "/Users/ymzhang/anaconda/lib/python3.6/site-packages/ipykernel/__main__.py:2: SettingWithCopyWarning: \n",
      "A value is trying to be set on a copy of a slice from a DataFrame.\n",
      "Try using .loc[row_indexer,col_indexer] = value instead\n",
      "\n",
      "See the caveats in the documentation: http://pandas.pydata.org/pandas-docs/stable/indexing.html#indexing-view-versus-copy\n",
      "  from ipykernel import kernelapp as app\n",
      "/Users/ymzhang/anaconda/lib/python3.6/site-packages/ipykernel/__main__.py:4: SettingWithCopyWarning: \n",
      "A value is trying to be set on a copy of a slice from a DataFrame.\n",
      "Try using .loc[row_indexer,col_indexer] = value instead\n",
      "\n",
      "See the caveats in the documentation: http://pandas.pydata.org/pandas-docs/stable/indexing.html#indexing-view-versus-copy\n"
     ]
    }
   ],
   "source": [
    "df4['pressure_ratio1']=round(df4.pressure_ratio_75,1)\n",
    "df4_85['pressure_ratio1']=round(df4_85.pressure_ratio_75,1)\n",
    "df4['pressure_ratio1'] = df4['pressure_ratio1'].astype('category')\n",
    "df4_85['pressure_ratio1'] = df4_85['pressure_ratio1'].astype('category')"
   ]
  },
  {
   "cell_type": "code",
   "execution_count": 145,
   "metadata": {
    "collapsed": false
   },
   "outputs": [
    {
     "data": {
      "text/plain": [
       "<matplotlib.axes._subplots.AxesSubplot at 0x11eb44dd8>"
      ]
     },
     "execution_count": 145,
     "metadata": {},
     "output_type": "execute_result"
    },
    {
     "data": {
      "image/png": "[encoded data removed]",
      "text/plain": [
       "<matplotlib.figure.Figure at 0x1241b5f28>"
      ]
     },
     "metadata": {},
     "output_type": "display_data"
    }
   ],
   "source": [
    "import matplotlib.pyplot as plt\n",
    "import numpy as np\n",
    "import pandas as pd\n",
    "import seaborn as sns\n",
    "%matplotlib inline\n",
    "plt.subplots(figsize=(15,8))\n",
    "sns.boxplot(x=\"pressure_ratio1\", y='overtime_rate',data=df4_85)"
   ]
  },
  {
   "cell_type": "code",
   "execution_count": 146,
   "metadata": {
    "collapsed": false
   },
   "outputs": [
    {
     "data": {
      "text/plain": [
       "<matplotlib.axes._subplots.AxesSubplot at 0x129365940>"
      ]
     },
     "execution_count": 146,
     "metadata": {},
     "output_type": "execute_result"
    },
    {
     "data": {
      "image/png": "[encoded data removed]",
      "text/plain": [
       "<matplotlib.figure.Figure at 0x122eeae48>"
      ]
     },
     "metadata": {},
     "output_type": "display_data"
    }
   ],
   "source": [
    "plt.subplots(figsize=(15,8))\n",
    "sns.boxplot(x=\"pressure_ratio1\", y='overtime_rate_40',data=df4_85)"
   ]
  },
  {
   "cell_type": "code",
   "execution_count": 147,
   "metadata": {
    "collapsed": false
   },
   "outputs": [
    {
     "data": {
      "text/plain": [
       "<matplotlib.axes._subplots.AxesSubplot at 0x12d710be0>"
      ]
     },
     "execution_count": 147,
     "metadata": {},
     "output_type": "execute_result"
    },
    {
     "data": {
      "image/png": "[encoded data removed]",
      "text/plain": [
       "<matplotlib.figure.Figure at 0x122eeaeb8>"
      ]
     },
     "metadata": {},
     "output_type": "display_data"
    }
   ],
   "source": [
    "plt.subplots(figsize=(15,8))\n",
    "sns.boxplot(x=\"pressure_ratio1\", y='time_cost',data=df4_85)"
   ]
  },
  {
   "cell_type": "code",
   "execution_count": 148,
   "metadata": {
    "collapsed": false
   },
   "outputs": [
    {
     "data": {
      "text/plain": [
       "<matplotlib.axes._subplots.AxesSubplot at 0x1242fcba8>"
      ]
     },
     "execution_count": 148,
     "metadata": {},
     "output_type": "execute_result"
    },
    {
     "data": {
      "image/png": "[encoded data removed]",
      "text/plain": [
       "<matplotlib.figure.Figure at 0x121fd0e10>"
      ]
     },
     "metadata": {},
     "output_type": "display_data"
    }
   ],
   "source": [
    "plt.subplots(figsize=(15,8))\n",
    "sns.boxplot(x=\"pressure_ratio1\", y='cancel_rate',data=df4_85)"
   ]
  },
  {
   "cell_type": "code",
   "execution_count": 149,
   "metadata": {
    "collapsed": false
   },
   "outputs": [
    {
     "data": {
      "text/plain": [
       "<matplotlib.axes._subplots.AxesSubplot at 0x11cc0eb70>"
      ]
     },
     "execution_count": 149,
     "metadata": {},
     "output_type": "execute_result"
    },
    {
     "data": {
      "image/png": "[encoded data removed]",
      "text/plain": [
       "<matplotlib.figure.Figure at 0x1252f6048>"
      ]
     },
     "metadata": {},
     "output_type": "display_data"
    }
   ],
   "source": [
    "plt.subplots(figsize=(15,8))\n",
    "sns.boxplot(x=\"pressure_ratio1\", y='completion_rate',data=df4_85)"
   ]
  },
  {
   "cell_type": "code",
   "execution_count": 150,
   "metadata": {
    "collapsed": false
   },
   "outputs": [
    {
     "data": {
      "text/plain": [
       "<seaborn.axisgrid.PairGrid at 0x11a5d2710>"
      ]
     },
     "execution_count": 150,
     "metadata": {},
     "output_type": "execute_result"
    },
    {
     "data": {
      "image/png": "[encoded data removed]",
      "text/plain": [
       "<matplotlib.figure.Figure at 0x11a5d22e8>"
      ]
     },
     "metadata": {},
     "output_type": "display_data"
    }
   ],
   "source": [
    "sns.pairplot(df4_85, x_vars=['time_cost','overtime_rate','overtime_rate_40','cancel_rate'], y_vars='pressure_ratio_75', kind='reg')"
   ]
  },
  {
   "cell_type": "markdown",
   "metadata": {},
   "source": [
    "** 求的回归的R square **"
   ]
  },
  {
   "cell_type": "code",
   "execution_count": 151,
   "metadata": {
    "collapsed": true
   },
   "outputs": [],
   "source": [
    "\n",
    "from sklearn.metrics import r2_score, f1_score\n",
    "def f(X):  \n",
    "    feature_cols=['time_cost']\n",
    "    linreg=LinearRegression()\n",
    "    a=X[feature_cols]\n",
    "    b=X.pressure_ratio_75\n",
    "    linreg.fit(a,b)\n",
    "    return linreg.score(a, b, sample_weight=None)"
   ]
  },
  {
   "cell_type": "code",
   "execution_count": 152,
   "metadata": {
    "collapsed": false
   },
   "outputs": [
    {
     "data": {
      "text/plain": [
       "city   grid_id\n",
       "三亚市    1859       0.601798\n",
       "       2027       0.485145\n",
       "       2049       0.445878\n",
       "       2262       0.493076\n",
       "       13809      0.751658\n",
       "上海市    34         0.003392\n",
       "       37         0.877203\n",
       "       38         0.774795\n",
       "       39         0.801013\n",
       "       40         0.466413\n",
       "       42         0.545765\n",
       "       43         0.793366\n",
       "       44         0.890115\n",
       "       45         0.921464\n",
       "       58         0.149199\n",
       "       84         0.680716\n",
       "       85         0.872864\n",
       "       186        0.167915\n",
       "       374        0.719391\n",
       "       394        0.362915\n",
       "       410        0.725775\n",
       "       1230       0.003608\n",
       "       1312       0.295826\n",
       "       1335       0.983051\n",
       "       1531       0.308364\n",
       "       2674       0.456809\n",
       "       2727       1.000000\n",
       "       2741       0.307192\n",
       "       2930       1.000000\n",
       "       3009       0.404031\n",
       "                    ...   \n",
       "青岛市    8365       0.623978\n",
       "       8379       0.647051\n",
       "       8391       0.460998\n",
       "       8430       0.618407\n",
       "       8436       0.651679\n",
       "       8445       0.718435\n",
       "       8522       0.142376\n",
       "       8549       0.732097\n",
       "       8961       0.810736\n",
       "       9087       0.698379\n",
       "       9094       0.058328\n",
       "       9147       0.884710\n",
       "       10743      0.793651\n",
       "       10831      0.444541\n",
       "       13591      0.709824\n",
       "       13834      0.718171\n",
       "       13979      0.793378\n",
       "       15588      0.783785\n",
       "齐齐哈尔市  1283       0.543795\n",
       "       1292       0.763475\n",
       "       1520       0.855456\n",
       "       1588       0.891385\n",
       "       2679       0.724039\n",
       "       4921       0.868323\n",
       "       4961       0.871803\n",
       "       4964       0.807357\n",
       "       4972       0.831549\n",
       "       5066       0.790566\n",
       "       8047       0.616043\n",
       "       8049       0.867542\n",
       "dtype: float64"
      ]
     },
     "execution_count": 152,
     "metadata": {},
     "output_type": "execute_result"
    }
   ],
   "source": [
    "df4.groupby(['city','grid_id']).apply(f)"
   ]
  },
  {
   "cell_type": "code",
   "execution_count": 153,
   "metadata": {
    "collapsed": false
   },
   "outputs": [
    {
     "name": "stderr",
     "output_type": "stream",
     "text": [
      "/Users/ymzhang/anaconda/lib/python3.6/site-packages/ipykernel/__main__.py:9: SettingWithCopyWarning: \n",
      "A value is trying to be set on a copy of a slice from a DataFrame.\n",
      "Try using .loc[row_indexer,col_indexer] = value instead\n",
      "\n",
      "See the caveats in the documentation: http://pandas.pydata.org/pandas-docs/stable/indexing.html#indexing-view-versus-copy\n"
     ]
    }
   ],
   "source": [
    "def partition(x):\n",
    "    if x < 0.5:\n",
    "        return 1\n",
    "    elif x >= 0.4 and x < 1:\n",
    "        return 2\n",
    "    else:\n",
    "        return 3\n",
    "\n",
    "df4_85['cluster'] = df4_85.pressure_ratio_75.map(partition)"
   ]
  },
  {
   "cell_type": "code",
   "execution_count": 154,
   "metadata": {
    "collapsed": false
   },
   "outputs": [
    {
     "data": {
      "text/plain": [
       "<matplotlib.axes._subplots.AxesSubplot at 0x12065f0b8>"
      ]
     },
     "execution_count": 154,
     "metadata": {},
     "output_type": "execute_result"
    },
    {
     "data": {
      "image/png": "[encoded data removed]",
      "text/plain": [
       "<matplotlib.figure.Figure at 0x1207047f0>"
      ]
     },
     "metadata": {},
     "output_type": "display_data"
    }
   ],
   "source": [
    "sns.boxplot(x=\"cluster\", y='overtime_rate',data=df4_85)"
   ]
  },
  {
   "cell_type": "code",
   "execution_count": 155,
   "metadata": {
    "collapsed": false
   },
   "outputs": [
    {
     "data": {
      "text/plain": [
       "<matplotlib.axes._subplots.AxesSubplot at 0x120a779e8>"
      ]
     },
     "execution_count": 155,
     "metadata": {},
     "output_type": "execute_result"
    },
    {
     "data": {
      "image/png": "[encoded data removed]",
      "text/plain": [
       "<matplotlib.figure.Figure at 0x12070dc18>"
      ]
     },
     "metadata": {},
     "output_type": "display_data"
    }
   ],
   "source": [
    "sns.boxplot(x=\"cluster\", y='time_cost',data=df4_85)"
   ]
  },
  {
   "cell_type": "code",
   "execution_count": null,
   "metadata": {
    "collapsed": true
   },
   "outputs": [],
   "source": []
  }
 ],
 "metadata": {
  "kernelspec": {
   "display_name": "Python 3",
   "language": "python",
   "name": "python3"
  },
  "language_info": {
   "codemirror_mode": {
    "name": "ipython",
    "version": 3
   },
   "file_extension": ".py",
   "mimetype": "text/x-python",
   "name": "python",
   "nbconvert_exporter": "python",
   "pygments_lexer": "ipython3",
   "version": "3.6.0"
  }
 },
 "nbformat": 4,
 "nbformat_minor": 2
}
