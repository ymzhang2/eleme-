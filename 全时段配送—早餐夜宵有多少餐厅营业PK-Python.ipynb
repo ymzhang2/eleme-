{
 "cells": [
  {
   "cell_type": "markdown",
   "metadata": {
    "collapsed": false
   },
   "source": [
    "早餐情况"
   ]
  },
  {
   "cell_type": "code",
   "execution_count": 91,
   "metadata": {
    "collapsed": true
   },
   "outputs": [],
   "source": [
    "import pandas as pd\n",
    "import numpy as np\n",
    "import matplotlib.pyplot as plt \n",
    "import seaborn as sns \n",
    "zao = pd.read_excel(open('/Users/ymzhang/Desktop/quanshiduan.xlsx','rb'), sheetname='sheet0')"
   ]
  },
  {
   "cell_type": "code",
   "execution_count": 78,
   "metadata": {
    "collapsed": false
   },
   "outputs": [
    {
     "data": {
      "text/plain": [
       "Index(['city_name', 'eleme_open_time', 'bd_express', 'eleme_count',\n",
       "       'city_name.1', 'meituan_open_time', 'bd_express.1', 'meituan_count',\n",
       "       'diff'],\n",
       "      dtype='object')"
      ]
     },
     "execution_count": 78,
     "metadata": {},
     "output_type": "execute_result"
    }
   ],
   "source": [
    "zao.columns"
   ]
  },
  {
   "cell_type": "markdown",
   "metadata": {},
   "source": [
    "首先对数据进行变换，使得数据分为饿了吗和美团两个组 "
   ]
  },
  {
   "cell_type": "code",
   "execution_count": 79,
   "metadata": {
    "collapsed": false
   },
   "outputs": [],
   "source": [
    "e=['city_name', 'eleme_open_time', 'bd_express', 'eleme_count']\n",
    "m=['city_name.1','meituan_open_time','bd_express.1','meituan_count']\n",
    "new_columns=['city_name','open_at','biaopin','counts','group']"
   ]
  },
  {
   "cell_type": "code",
   "execution_count": 80,
   "metadata": {
    "collapsed": true
   },
   "outputs": [],
   "source": [
    "eleme=zao[e].dropna()\n",
    "meituan=zao[m].dropna()\n",
    "eleme['group']='eleme'\n",
    "meituan['group']='meituan'"
   ]
  },
  {
   "cell_type": "code",
   "execution_count": 81,
   "metadata": {
    "collapsed": false
   },
   "outputs": [],
   "source": [
    "eleme.columns=new_columns\n",
    "meituan.columns=new_columns"
   ]
  },
  {
   "cell_type": "code",
   "execution_count": 82,
   "metadata": {
    "collapsed": false
   },
   "outputs": [],
   "source": [
    "open_at=eleme.append(meituan)"
   ]
  },
  {
   "cell_type": "code",
   "execution_count": 83,
   "metadata": {
    "collapsed": true
   },
   "outputs": [],
   "source": [
    "open_at.reset_index(inplace=True)"
   ]
  },
  {
   "cell_type": "code",
   "execution_count": 84,
   "metadata": {
    "collapsed": false,
    "scrolled": false
   },
   "outputs": [],
   "source": [
    "open_at.drop('index',1,inplace=True)"
   ]
  },
  {
   "cell_type": "markdown",
   "metadata": {},
   "source": [
    "只考虑早餐时段开门的餐厅"
   ]
  },
  {
   "cell_type": "code",
   "execution_count": 85,
   "metadata": {
    "collapsed": false
   },
   "outputs": [],
   "source": [
    "zao_times=['06:00','06:30','07:00','07:30','08:00','08:30','09:00','09:30']"
   ]
  },
  {
   "cell_type": "code",
   "execution_count": 86,
   "metadata": {
    "collapsed": false
   },
   "outputs": [],
   "source": [
    "open_at1=open_at[(open_at.open_at!='close')&(open_at.open_at.isin(zao_times))]"
   ]
  },
  {
   "cell_type": "code",
   "execution_count": 87,
   "metadata": {
    "collapsed": false
   },
   "outputs": [
    {
     "data": {
      "text/plain": [
       "array(['06:00', '06:30', '07:30', '08:00', '08:30', '09:00', '09:30',\n",
       "       '07:00'], dtype=object)"
      ]
     },
     "execution_count": 87,
     "metadata": {},
     "output_type": "execute_result"
    }
   ],
   "source": [
    "pd.unique(open_at1.open_at)"
   ]
  },
  {
   "cell_type": "code",
   "execution_count": 88,
   "metadata": {
    "collapsed": true
   },
   "outputs": [],
   "source": [
    "writer=pd.ExcelWriter('open_at1.xlsx',engine='xlsxwriter')\n",
    "open_at1.to_excel(writer,sheet_name='Sheet1')"
   ]
  },
  {
   "cell_type": "markdown",
   "metadata": {},
   "source": [
    "夜宵情况"
   ]
  },
  {
   "cell_type": "code",
   "execution_count": 64,
   "metadata": {
    "collapsed": true
   },
   "outputs": [],
   "source": [
    "import pandas as pd\n",
    "import numpy as np\n",
    "import matplotlib.pyplot as plt \n",
    "import seaborn as sns \n",
    "ye = pd.read_excel(open('/Users/ymzhang/Desktop/quanshiduan.xlsx','rb'), sheetname='sheet1')"
   ]
  },
  {
   "cell_type": "code",
   "execution_count": 65,
   "metadata": {
    "collapsed": false
   },
   "outputs": [
    {
     "data": {
      "text/plain": [
       "Index(['city_name', 'eleme_close_time', 'bd_express', 'eleme_count',\n",
       "       'city_name.1', 'meituan_close_time', 'bd_express.1', 'meituan_count',\n",
       "       'diff'],\n",
       "      dtype='object')"
      ]
     },
     "execution_count": 65,
     "metadata": {},
     "output_type": "execute_result"
    }
   ],
   "source": [
    "ye.columns"
   ]
  },
  {
   "cell_type": "code",
   "execution_count": 66,
   "metadata": {
    "collapsed": false
   },
   "outputs": [],
   "source": [
    "yexiao=['00:00', '00:30', '01:00', '01:30', '02:00','02:30', '03:00', '03:30', '04:00', '04:30', '05:00', '05:30','22:00', '22:30', '23:00', '23:30']"
   ]
  },
  {
   "cell_type": "code",
   "execution_count": 67,
   "metadata": {
    "collapsed": true
   },
   "outputs": [],
   "source": [
    "e=['city_name', 'eleme_close_time', 'bd_express', 'eleme_count']\n",
    "m=['city_name.1','meituan_close_time','bd_express.1','meituan_count']\n",
    "new_columns=['city_name','close_at','biaopin','counts','group']"
   ]
  },
  {
   "cell_type": "code",
   "execution_count": 68,
   "metadata": {
    "collapsed": false
   },
   "outputs": [],
   "source": [
    "eleme=ye[e].dropna()\n",
    "meituan=ye[m].dropna()\n",
    "eleme['group']='eleme'\n",
    "meituan['group']='meituan'"
   ]
  },
  {
   "cell_type": "code",
   "execution_count": 69,
   "metadata": {
    "collapsed": true
   },
   "outputs": [],
   "source": [
    "eleme.columns=new_columns\n",
    "meituan.columns=new_columns"
   ]
  },
  {
   "cell_type": "code",
   "execution_count": 70,
   "metadata": {
    "collapsed": true
   },
   "outputs": [],
   "source": [
    "close_at=eleme.append(meituan)"
   ]
  },
  {
   "cell_type": "code",
   "execution_count": 71,
   "metadata": {
    "collapsed": true
   },
   "outputs": [],
   "source": [
    "close_at.reset_index(inplace=True)\n",
    "close_at.drop('index',1,inplace=True)"
   ]
  },
  {
   "cell_type": "code",
   "execution_count": 73,
   "metadata": {
    "collapsed": false
   },
   "outputs": [],
   "source": [
    "close_at1=close_at[(close_at.close_at!='close')&(close_at.close_at.isin(yexiao))]"
   ]
  },
  {
   "cell_type": "code",
   "execution_count": 74,
   "metadata": {
    "collapsed": false
   },
   "outputs": [
    {
     "data": {
      "text/plain": [
       "array(['22:00', '22:30', '23:00', '23:30', '00:00', '00:30', '01:00',\n",
       "       '01:30', '02:00', '02:30', '03:00', '03:30', '04:00', '04:30',\n",
       "       '05:00', '05:30'], dtype=object)"
      ]
     },
     "execution_count": 74,
     "metadata": {},
     "output_type": "execute_result"
    }
   ],
   "source": [
    "pd.unique(close_at1.close_at)"
   ]
  },
  {
   "cell_type": "code",
   "execution_count": 76,
   "metadata": {
    "collapsed": true
   },
   "outputs": [],
   "source": [
    "writer=pd.ExcelWriter('close_at1.xlsx',engine='xlsxwriter')\n",
    "close_at1.to_excel(writer,sheet_name='Sheet1')"
   ]
  },
  {
   "cell_type": "code",
   "execution_count": null,
   "metadata": {
    "collapsed": true
   },
   "outputs": [],
   "source": []
  },
  {
   "cell_type": "code",
   "execution_count": null,
   "metadata": {
    "collapsed": true
   },
   "outputs": [],
   "source": []
  }
 ],
 "metadata": {
  "kernelspec": {
   "display_name": "Python 3",
   "language": "python",
   "name": "python3"
  },
  "language_info": {
   "codemirror_mode": {
    "name": "ipython",
    "version": 3
   },
   "file_extension": ".py",
   "mimetype": "text/x-python",
   "name": "python",
   "nbconvert_exporter": "python",
   "pygments_lexer": "ipython3",
   "version": "3.6.0"
  }
 },
 "nbformat": 4,
 "nbformat_minor": 2
}
